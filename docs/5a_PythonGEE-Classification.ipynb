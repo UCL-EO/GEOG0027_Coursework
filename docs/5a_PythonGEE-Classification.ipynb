{
 "cells": [
  {
   "cell_type": "markdown",
   "metadata": {},
   "source": [
    "## GEOG0027 (2020/1) Classification with Google Earth Engine (GEE)"
   ]
  },
  {
   "cell_type": "markdown",
   "metadata": {},
   "source": [
    "This practical will use Google Earth Engine (GEE)'s python library [EE](https://developers.google.com/earth-engine) and [geemap library](https://geemap.org/) to automatically classify land covers and land uses in Shenzhen area. These two libraries are built to handle remote sensing (RS) data from the Cloud without physically downloading the data to our local computers, and they also allow easy python coding, where only small modifications are needed before handling large datasets. GEE hosts many popular RS datasets on the Cloud, and details of its data catalog can be found at: https://developers.google.com/earth-engine/datasets.\n",
    "\n",
    "For the Shenzhen classification work, we start from displaying a basemap of the area."
   ]
  },
  {
   "cell_type": "code",
   "execution_count": 1,
   "metadata": {},
   "outputs": [
    {
     "data": {
      "application/vnd.jupyter.widget-view+json": {
       "model_id": "06a6c4f933d64422b2e6379bd03245c1",
       "version_major": 2,
       "version_minor": 0
      },
      "text/plain": [
       "Map(center=[22.634, 114.19], controls=(WidgetControl(options=['position'], widget=HBox(children=(ToggleButton(…"
      ]
     },
     "metadata": {},
     "output_type": "display_data"
    }
   ],
   "source": [
    "import geemap, ee, os\n",
    "\n",
    "Map = geemap.Map(center=[22.634, 114.19], zoom=9)\n",
    "Map"
   ]
  },
  {
   "cell_type": "markdown",
   "metadata": {},
   "source": [
    "## Examining the time series\n",
    "Let's define a rectangular region of interest, following [min lon, min lat, max mon, max lat] first, and display a short 'movie' (a .gif file in fact) of how this area has changed over the past decades."
   ]
  },
  {
   "cell_type": "code",
   "execution_count": 2,
   "metadata": {},
   "outputs": [
    {
     "name": "stdout",
     "output_type": "stream",
     "text": [
      "{'type': 'Polygon', 'coordinates': [[[113.7659, 22.4], [114.6654, 22.4], [114.6654, 22.8536], [113.7659, 22.8536], [113.7659, 22.4]]]}\n"
     ]
    }
   ],
   "source": [
    "shenzhen_rec = ee.Geometry.Rectangle([113.7659, 22.40, 114.6654, 22.8536]) \n",
    "Map.addLayer(shenzhen_rec, {}, 'AOI rec')\n",
    "print(shenzhen_rec.getInfo())"
   ]
  },
  {
   "cell_type": "code",
   "execution_count": 2,
   "metadata": {},
   "outputs": [
    {
     "name": "stdout",
     "output_type": "stream",
     "text": [
      "{'type': 'Polygon', 'coordinates': [[[113.7659, 22.4], [114.6654, 22.4], [114.6654, 22.8536], [113.7659, 22.8536], [113.7659, 22.4]]]}\n",
      "Generating URL...\n",
      "Downloading GIF image from https://earthengine.googleapis.com/v1alpha/projects/earthengine-legacy/videoThumbnails/fe35de13a51e97410db5e2a076d03f36-bf580ddde140dfc86a157c8a3a727dd4:getPixels\n",
      "Please wait ...\n",
      "The GIF image has been saved to: /Users/qingling/Downloads/landsat_ts_mjf.gif\n",
      "Adding animated text to GIF ...\n",
      "Adding GIF to the map ...\n",
      "The timelapse has been added to the map.\n"
     ]
    }
   ],
   "source": [
    "Map_gif = geemap.Map(center=[22.7511, 113.91], zoom=10)\n",
    "Map_gif.add_landsat_ts_gif(roi=shenzhen_rec, start_year=1985, bands=['NIR', 'Red', 'Green'], frames_per_second=5)"
   ]
  },
  {
   "cell_type": "markdown",
   "metadata": {},
   "source": [
    "![shenzhengif](../../../../Downloads/landsat_ts_qfo.gif \"shenzhen\")"
   ]
  },
  {
   "cell_type": "markdown",
   "metadata": {},
   "source": [
    "Next, we will compare such change by using a slider"
   ]
  },
  {
   "cell_type": "code",
   "execution_count": 3,
   "metadata": {
    "code_folding": [],
    "scrolled": false
   },
   "outputs": [
    {
     "data": {
      "application/vnd.jupyter.widget-view+json": {
       "model_id": "687e9fe86132496c967c5104545f2bd9",
       "version_major": 2,
       "version_minor": 0
      },
      "text/plain": [
       "Map(center=[22.627302103068118, 114.2156500000001], controls=(WidgetControl(options=['position'], widget=Dropd…"
      ]
     },
     "metadata": {},
     "output_type": "display_data"
    }
   ],
   "source": [
    "landsat_ts = geemap.landsat_timeseries(roi=shenzhen_rec, start_year=1986, end_year=2020, \\\n",
    "                                       start_date='01-01', end_date='12-31')\n",
    "\n",
    "layer_names = ['Landsat ' + str(year) for year in range(1986, 2021)]\n",
    "\n",
    "geemap_landsat_vis = {\n",
    "    'min': 0,\n",
    "    'max': 3000,\n",
    "    'gamma': [1, 1, 1],\n",
    "    'bands': ['NIR', 'Red', 'Green']} # You can change the vis bands here\n",
    "\n",
    "Map2 = geemap.Map()\n",
    "Map2.ts_inspector(left_ts=landsat_ts, right_ts=landsat_ts, left_names=layer_names, right_names=layer_names, \\\n",
    "                 left_vis=geemap_landsat_vis, right_vis=geemap_landsat_vis)\n",
    "Map2.centerObject(shenzhen_rec, zoom=10)\n",
    "Map2"
   ]
  },
  {
   "cell_type": "markdown",
   "metadata": {},
   "source": [
    "We have manually defined a rectangle for Shenzhen area, but we can also use shape/vector files to select Areas of Interest. "
   ]
  },
  {
   "cell_type": "markdown",
   "metadata": {},
   "source": [
    "# Select 'Shenzhen' as the area of interest (AOI)\n",
    "The vector border layer is imported from https://developers.google.com/earth-engine/datasets/tags/borders, which includes the [Global Administrative Unit Layers (GAUL) data](https://developers.google.com/earth-engine/datasets/catalog/FAO_GAUL_2015_level2) from 2015. You may notice that Shenzhen's boundary has expanded since (e.g. coastal landfill). We can manually draw some polygon and clip it to the GAUL border file, or, to make a simple example, we can add some 'buffer' (e.g. 3000 meters) to the GAUL boundary data. This inevitably will introduce some areas outside the border of Shenzhen, e.g. part of Hong Kong, so you can work out some more elegant way to combining/clipping multiple mask layers if time allows. Justify you choice and summarize how you made it in the report. In the following example, I will use the `shenzhen_buffer` as my AOI."
   ]
  },
  {
   "cell_type": "code",
   "execution_count": 3,
   "metadata": {},
   "outputs": [
    {
     "data": {
      "application/vnd.jupyter.widget-view+json": {
       "model_id": "06a6c4f933d64422b2e6379bd03245c1",
       "version_major": 2,
       "version_minor": 0
      },
      "text/plain": [
       "Map(bottom=57372.0, center=[22.634, 114.19], controls=(WidgetControl(options=['position'], widget=HBox(childre…"
      ]
     },
     "metadata": {},
     "output_type": "display_data"
    }
   ],
   "source": [
    "cities = ee.FeatureCollection(\"FAO/GAUL/2015/level2\")\n",
    "#Map.addLayer(cities, {}, 'Cities', False)\n",
    "\n",
    "shenzhen = cities.filter(ee.Filter.eq('ADM2_NAME', 'Shenzhen'))\n",
    "outline = ee.Image().byte().paint(**{\n",
    "  'featureCollection': shenzhen,\n",
    "  'color': 1,\n",
    "  'width': 3\n",
    "})\n",
    "Map.addLayer(outline, {}, 'Shenzhen')\n",
    "\n",
    "# Next, add some buffer to include the coastal expansion areas\n",
    "shenzhen_buffer = ee.Geometry(shenzhen.geometry()).buffer(3000)\n",
    "Map.addLayer(shenzhen_buffer, {}, 'Buffer around Shenzhen')\n",
    "#Map.addLayer(rec, \"Original rec bounds\")\n",
    "Map"
   ]
  },
  {
   "cell_type": "markdown",
   "metadata": {},
   "source": [
    "Next, let's load some Landsat images for the Shenzhen area. I've defined here a python function called `display_landsat_collection` to do so. It automatically loads both the [surface reflectance](https://developers.google.com/earth-engine/datasets/catalog/LANDSAT_LC08_C01_T1_SR) and [annual NDVI](https://developers.google.com/earth-engine/datasets/catalog/LANDSAT_LC08_C01_T1_ANNUAL_NDVI) image collections from GEE's data catalog and also calculates the annual means for each band. \n",
    "\n",
    "In order to run such function, you will need to supply a year (any year since 1984) and an AOI. In the following example, I chose year 2019 and the same Shenzhen buffer to demonstrate."
   ]
  },
  {
   "cell_type": "code",
   "execution_count": 5,
   "metadata": {
    "scrolled": false
   },
   "outputs": [
    {
     "data": {
      "application/vnd.jupyter.widget-view+json": {
       "model_id": "74386077a6fc4c7f9fce819b1ac3a94e",
       "version_major": 2,
       "version_minor": 0
      },
      "text/plain": [
       "Map(center=[22.634, 114.19], controls=(WidgetControl(options=['position'], widget=HBox(children=(ToggleButton(…"
      ]
     },
     "metadata": {},
     "output_type": "display_data"
    }
   ],
   "source": [
    "# to read in the Landsat data collection(s)\n",
    "\n",
    "def load_landsat_collection(year, aoi, cloud_tolerance = 3.0, \n",
    "                            DISPLAY_ON_MAP = False, MEDIAN_ONLY=False):\n",
    "    '''This function allows GEE to display an image collection \n",
    "    that fall within the cloud tolerance, e.g. 3.0%.\n",
    "    There are two optional flag:\n",
    "    When DISPLAY_ON_MAP is TRUE, display this layer onto Map;\n",
    "    When MEDIAN_ONLY is True, only median SR is loaded into landsat_ts. \n",
    "    MEDIAN_ONLY is faster than loading all collections. \n",
    "    '''\n",
    "    if year >= 2013:\n",
    "        layer_name = 'LC08' # LS8: 2013-now        \n",
    "        fcc_bands = ['B5', 'B4', 'B3']\n",
    "    elif year == 2012: # # LS7: 1999- , however SLT error >= 1999:\n",
    "        layer_name = 'LE07' \n",
    "        fcc_bands = ['B4', 'B3', 'B2']\n",
    "    elif year >=1984:\n",
    "        layer_name = 'LT05' # LS5: 1984-2012\n",
    "        fcc_bands = ['B4', 'B3', 'B2']\n",
    "    else:\n",
    "        print('Please name a year after 1984')\n",
    "        \n",
    "    collection_name_sr = f\"LANDSAT/{layer_name}/C01/T1_SR\" \n",
    "    # You can also use the following line, if interested in incorperating ndvi\n",
    "    collection_name_ndvi = f\"LANDSAT/{layer_name}/C01/T1_ANNUAL_NDVI\" \n",
    "\n",
    "    if not(MEDIAN_ONLY):\n",
    "        all_sr_image = ee.ImageCollection(collection_name_sr) \\\n",
    "            .filterBounds(aoi) \\\n",
    "            .filterDate(f'{year}-01-01', f'{year}-12-31') \\\n",
    "            .filter(ee.Filter.lt('CLOUD_COVER', cloud_tolerance))\\\n",
    "            .sort('system:time_start') \\\n",
    "            .select('B[1-7]') \\\n",
    "            .sort('CLOUD_COVER')\n",
    "\n",
    "        # reduce all_sr_image to annual average per pixel\n",
    "        mean_image = all_sr_image.mean()\n",
    "        mean_image = mean_image.clip(aoi).unmask()\n",
    "\n",
    "        ndvi_image = ee.ImageCollection(collection_name_ndvi)\\\n",
    "            .filterBounds(aoi) \\\n",
    "            .filterDate(f'{year}-01-01', f'{year}-12-31')\\\n",
    "            .select('NDVI')\\\n",
    "            .first()\n",
    "        ndvi_image = ndvi_image.clip(aoi).unmask()\n",
    "\n",
    "        #mean_image.addBands(ndvi_image, 'NDVI')\n",
    "\n",
    "    median_image = landsat_ts.filterDate(f'{year}-01-01', f'{year}-12-31').first()\n",
    "    median_image = median_image.clip(aoi).unmask()\n",
    "    \n",
    "    if DISPLAY_ON_MAP == True:\n",
    "        \n",
    "        landsat_vis_param = {\n",
    "            'min': 0,\n",
    "            'max': 3000,\n",
    "            'bands': fcc_bands \n",
    "        }\n",
    "        geemap_landsat_vis = {\n",
    "            'min': 0,\n",
    "            'max': 3000,\n",
    "            'bands': ['NIR', 'Red', 'Green']\n",
    "        }\n",
    "        ndvi_colorized_vis = {\n",
    "            'min': 0.0,\n",
    "            'max': 1.0,\n",
    "            'palette': [\n",
    "            'FFFFFF', 'CE7E45', 'DF923D', 'F1B555', 'FCD163', '99B718', '74A901',\n",
    "            '66A000', '529400', '3E8601', '207401', '056201', '004C00', '023B01',\n",
    "            '012E01', '011D01', '011301']\n",
    "        }\n",
    "        \n",
    "        if not(MEDIAN_ONLY):\n",
    "            Map.addLayer(ndvi_image, ndvi_colorized_vis, 'NDVI '+str(year),  opacity=0.9)\n",
    "            Map.addLayer(mean_image, landsat_vis_param, \"Mean Ref \"+str(year))\n",
    "        Map.addLayer(median_image, geemap_landsat_vis, \"Median Ref \"+str(year))\n",
    "\n",
    "    if MEDIAN_ONLY:\n",
    "        return median_image\n",
    "    else:\n",
    "        return all_sr_image, mean_image, median_image, ndvi_image \n",
    "\n",
    "landsat_ts = geemap.landsat_timeseries(roi=shenzhen_buffer, start_year=1984, end_year=2020, \\\n",
    "                                       start_date='01-01', end_date='12-31')\n",
    "\n",
    "\n",
    "Map = geemap.Map(center=[22.634, 114.19], zoom=10)\n",
    "# All you need to modify is the YEAR below:\n",
    "all_image_2019, mean_2019, median_2019, ndvi_2019 = load_landsat_collection(2019,\\\n",
    "                                        shenzhen_buffer, cloud_tolerance = 3,\\\n",
    "                                        DISPLAY_ON_MAP = True)\n",
    "Map"
   ]
  },
  {
   "cell_type": "markdown",
   "metadata": {},
   "source": [
    "We can also check the metadata from the Landsat image collection we just loaded from the Cloud. Have a look of the output. Any useful information?"
   ]
  },
  {
   "cell_type": "code",
   "execution_count": 11,
   "metadata": {},
   "outputs": [
    {
     "name": "stdout",
     "output_type": "stream",
     "text": [
      "{'CLOUD_COVER': 0.21, 'CLOUD_COVER_LAND': 0.23, 'EARTH_SUN_DISTANCE': 0.989463, 'ESPA_VERSION': '2_23_0_1b', 'GEOMETRIC_RMSE_MODEL': 7.889, 'GEOMETRIC_RMSE_MODEL_X': 5.66, 'GEOMETRIC_RMSE_MODEL_Y': 5.495, 'IMAGE_DATE': '2019-11-14', 'IMAGE_QUALITY_OLI': 9, 'IMAGE_QUALITY_TIRS': 9, 'LANDSAT_ID': 'LC08_L1TP_122044_20191114_20191202_01_T1', 'LEVEL1_PRODUCTION_DATE': 1575301122000, 'NOMINAL_SCALE': 30, 'PIXEL_QA_VERSION': 'generate_pixel_qa_1.6.0', 'SATELLITE': 'LANDSAT_8', 'SENSING_TIME': '2019-11-14T02:52:28.2228010Z', 'SOLAR_AZIMUTH_ANGLE': 153.700989, 'SOLAR_ZENITH_ANGLE': 45.366386, 'SR_APP_VERSION': 'LaSRC_1.3.0', 'WRS_PATH': 122, 'WRS_ROW': 44, 'system:asset_size': '627.230926 MB', 'system:band_names': ['B1', 'B2', 'B3', 'B4', 'B5', 'B6', 'B7'], 'system:id': 'LANDSAT/LC08/C01/T1_SR/LC08_122044_20191114', 'system:index': 'LC08_122044_20191114', 'system:time_end': '2019-11-14 02:52:28', 'system:time_start': '2019-11-14 02:52:28', 'system:version': 1576236040308713}\n"
     ]
    }
   ],
   "source": [
    "first_image = all_image_2019.first() \n",
    "\n",
    "props = geemap.image_props(first_image)\n",
    "print( props.getInfo())\n",
    "#print(first_image.get('IMAGE_DATE').getInfo())\n",
    "#print(first_image.get('CLOUD_COVER').getInfo(), '%')"
   ]
  },
  {
   "cell_type": "markdown",
   "metadata": {},
   "source": [
    "Next, examine the mean, median surface reflectance and/or NDVI layers we've visualized (switching the layers on and off, calculating the differences, etc.) . Which one is better? Which band should we include into the classification?"
   ]
  },
  {
   "cell_type": "code",
   "execution_count": 7,
   "metadata": {
    "scrolled": false
   },
   "outputs": [],
   "source": [
    "NIR = mean_2019.select('B5')\n",
    "Red = mean_2019.select('B4')\n",
    "mean_ndvi = NIR.subtract(Red).divide(NIR.add(Red))\n",
    "\n",
    "NIR = median_2019.select('NIR')\n",
    "Red = median_2019.select('Red')\n",
    "median_ndvi = NIR.subtract(Red).divide(NIR.add(Red))\n",
    "\n",
    "Map.addLayer(mean_ndvi.subtract(median_ndvi), {'min': 0.0,'max': 0.2}, 'Diff in NDVI')\n",
    "#Map"
   ]
  },
  {
   "cell_type": "markdown",
   "metadata": {},
   "source": [
    "# Nextly, let's run some unsupervised classification (e.g. K-means) with geemap\n",
    "\n"
   ]
  },
  {
   "cell_type": "markdown",
   "metadata": {},
   "source": [
    "## Unsupervised classification\n",
    "Let's start with the 2019 Median image as an example. in the following code cell, a function called `unsupervised_classifier` has been defined to classify an image by take several input parameters (or 'arguments'). You can don't have to worry about the detail of the code except the very first line, where information about the 'arguments' can be found."
   ]
  },
  {
   "cell_type": "code",
   "execution_count": 17,
   "metadata": {},
   "outputs": [],
   "source": [
    "def unsupervised_classifier(image, aoi, n_clusters=5, output_filename='', DISPLAY_ON_MAP = False):\n",
    "    '''This function provides a simple K-means classifier,\n",
    "    with a default no. of cluster of 5. User will need to specify \n",
    "    an AOI and an image to be classified.\n",
    "    Optional arguments:\n",
    "    n_clusters defines the number of clusters in the K-means classifier;\n",
    "    output_filename should be a quoted string, e.g. 'Shenzhen_Landsat_Kmeans_2019.tif';\n",
    "    DISPLAY_ON_MAP can be switched on, so the cluster map will be added to Map.\n",
    "    '''\n",
    "    \n",
    "    # Make the training dataset:\n",
    "    training_points = image.sample(**{\n",
    "        'region': aoi,\n",
    "        'scale': 30,\n",
    "        'numPixels': 5000,\n",
    "        'seed': 0,\n",
    "        'geometries': True  # Set this to False to ignore geometries\n",
    "    })\n",
    "\n",
    "    #Map.addLayer(training_points, {}, 'training points', False) # No need to visualise this layer\n",
    "\n",
    "    # Instantiate the clusterer and train it.\n",
    "    clusterer = ee.Clusterer.wekaKMeans(n_clusters).train(training_points)\n",
    "\n",
    "    # Cluster the input using the trained clusterer.\n",
    "    class_result = image.cluster(clusterer)\n",
    "    \n",
    "    # Reclassify the map to avoid zero, in case of masking. E.g. from [0, 1, 2, 3, 4] to [1, 2, 3, 4, 5]\n",
    "    #class_result = class_result.remap(list(range(0, n_clusters)), list(range(1, n_clusters+1)))\n",
    "\n",
    "    if DISPLAY_ON_MAP:\n",
    "        # Display the clusters with random colors.\n",
    "        Map.addLayer(class_result.randomVisualizer(), {}, 'Clusters '+output_filename[-8:-4], opacity=1.0)\n",
    "\n",
    "    if output_filename == '':\n",
    "        print('Classification finished. No output exported.')\n",
    "    else:\n",
    "        #Export the result directly to your computer/Hub:\n",
    "        geemap.ee_export_image(class_result, filename=output_filename, \\\n",
    "                            scale=900, region=aoi, file_per_band=False) # When scale is small, GEE won't allow download due to size\n",
    "\n",
    "    return class_result"
   ]
  },
  {
   "cell_type": "markdown",
   "metadata": {},
   "source": [
    "The above cell only 'defines' a function but does NOT execute it, so we now need to actually run it by calling the function name with appropriate arguments:"
   ]
  },
  {
   "cell_type": "code",
   "execution_count": 25,
   "metadata": {},
   "outputs": [
    {
     "name": "stdout",
     "output_type": "stream",
     "text": [
      "Classification finished. No output exported.\n"
     ]
    },
    {
     "data": {
      "application/vnd.jupyter.widget-view+json": {
       "model_id": "74386077a6fc4c7f9fce819b1ac3a94e",
       "version_major": 2,
       "version_minor": 0
      },
      "text/plain": [
       "Map(bottom=114444.0, center=[22.634, 114.19], controls=(WidgetControl(options=['position'], widget=HBox(childr…"
      ]
     },
     "metadata": {},
     "output_type": "display_data"
    }
   ],
   "source": [
    "class_result = unsupervised_classifier(mean_2019, shenzhen_buffer, n_clusters=5, DISPLAY_ON_MAP = True)\n",
    "Map"
   ]
  },
  {
   "cell_type": "markdown",
   "metadata": {},
   "source": [
    "## Next, we will need to define or name these unsupervised classes\n",
    "You need to carefully compare the classified results with the original images to decide which cluster belongs to what class. Then, you can name the classes and assign appropriate RGB colours accordingly. However, the classified clusters may differ between different years, so you may need to change the legend for some of the years. Also, bare in mind, there might be mis-classified pixels. How can you improve the results?"
   ]
  },
  {
   "cell_type": "code",
   "execution_count": 26,
   "metadata": {},
   "outputs": [],
   "source": [
    "legend_keys = ['Urban', 'Vegetation', 'Bright Urban',  'Water', 'Shaded Vegetation']\n",
    "legend_colors = ['#FFFFB3', '#8DD3C7', '#FFFFB0','#80B1D3', '#8DD3C0']\n",
    "\n",
    "Map.addLayer(class_result, {'min': 0, 'max': 4, 'palette': legend_colors}, 'Labelled clusters')\n",
    "Map.add_legend(legend_keys=legend_keys, legend_colors=legend_colors, position='bottomright')"
   ]
  },
  {
   "cell_type": "markdown",
   "metadata": {},
   "source": [
    "These are the numbers needed for later modelling work. We will also show you how to export these values automatically later. Now, let's have a close examination of the classification results. \n",
    "\n",
    "For the year 2019 with 5 clusters, the results seem to include two 'Urban' and two 'Vegetation' clusters. In cases similar this, we may consider grouping multiple clusters together, by re-mapping the cluster numbers:"
   ]
  },
  {
   "cell_type": "code",
   "execution_count": 27,
   "metadata": {},
   "outputs": [],
   "source": [
    "# Reclassify the map. You may want to avoid zero, in case of masking.\n",
    "remapped_class_result = class_result.remap([0, 1, 2, 3, 4], [1, 2, 1, 3, 2])\n",
    "\n",
    "legend_keys = ['Urban', 'Vegetation', 'Water']\n",
    "legend_colors = ['#FFFFB3', '#8DD3C7','#80B1D3']\n",
    "\n",
    "Map.addLayer(remapped_class_result, {'min': 1, 'max': 3, 'palette': legend_colors}, 'Remapped clusters')\n",
    "Map.add_legend(legend_keys=legend_keys, legend_colors=legend_colors, position='bottomright')"
   ]
  },
  {
   "cell_type": "markdown",
   "metadata": {},
   "source": [
    "However, sometimes you may find the reclustered results less satisfactory, so consider carefully before executing the remaping code."
   ]
  },
  {
   "cell_type": "markdown",
   "metadata": {},
   "source": [
    "After remapping the clusters, we have just three final clusters now.  Would this be the same result if we simply run the `unsupervised_classifier` function with `n_clusters = 3`? Have a try. The number of clusters to use depends on the image, and it may different between different years."
   ]
  },
  {
   "cell_type": "markdown",
   "metadata": {},
   "source": [
    "## Cluster areas\n",
    "Next, we need to find out the size of each cluster, i.e. how many pixels belong to each class, and the total size of each class (hint: how big is each pixel?)"
   ]
  },
  {
   "cell_type": "code",
   "execution_count": 28,
   "metadata": {},
   "outputs": [
    {
     "name": "stdout",
     "output_type": "stream",
     "text": [
      "Urban has 1024540 pixles.\n",
      "Vegetation has 813730 pixles.\n",
      "Bright Urban has 367348 pixles.\n",
      "Water has 899544 pixles.\n",
      "Shaded Vegetation has 653759 pixles.\n"
     ]
    }
   ],
   "source": [
    "import numpy\n",
    "\n",
    "def calculate_class_size(class_result, year, legend_keys, PRINT_STATS=False):\n",
    "    n_clusters = len(legend_keys)\n",
    "    \n",
    "    stats = {'Year': year}\n",
    "    for i in range(n_clusters):\n",
    "        remap = numpy.zeros(n_clusters)\n",
    "        remap[i] = 1\n",
    "        class_0 = class_result.remap(list(range(0, n_clusters)), list(remap))\n",
    "        class_stats0 = geemap.image_stats(class_0, scale=30)\n",
    "        #print(class_stats0)\n",
    "        sum_class0 = class_stats0.getInfo()['sum']\n",
    "        sum_clean = int(sum_class0['remapped'])\n",
    "        if PRINT_STATS:\n",
    "            print(legend_keys[i], 'has', sum_clean, 'pixles.')\n",
    "        stats[legend_keys[i]] = sum_clean\n",
    "        \n",
    "    return stats\n",
    "\n",
    "legend_keys = ['Urban', 'Vegetation', 'Bright Urban',  'Water', 'Shaded Vegetation']        \n",
    "stats_2019 = calculate_class_size(class_result, 2019, legend_keys, PRINT_STATS=True)"
   ]
  },
  {
   "cell_type": "markdown",
   "metadata": {},
   "source": [
    "# Repeat for multiple years\n",
    "By now, you should be able to understand that the `load_landsat_collection` function allows us to just vary the 'year' variable (and leave AOI and Cloud Tolerance constant) to loop through a time series of data. Similarly, for the `unsupervised_classifier` function, we can vary the input 'image' variable (an output from the `load_landsat_collection` function) in order classify multiple images. So, below is a loop built for running K-means classification for a time series of Landsat for the Shenzhen area. Years between 1987 to 2016 are selected to match our socio-economic data. When this cell is running (you can spot a star key on the LHS of the cell), you can track the progress by looking at the output messages. Once the cell finished running, an integer number will be shown outside of the LHS of the cell, and you can examine the layers in the Map (if the DISPLAY flag was set to True)"
   ]
  },
  {
   "cell_type": "code",
   "execution_count": 30,
   "metadata": {
    "scrolled": false
   },
   "outputs": [
    {
     "name": "stdout",
     "output_type": "stream",
     "text": [
      "Generating URL ...\n",
      "Downloading data from https://earthengine.googleapis.com/v1alpha/projects/earthengine-legacy/thumbnails/9d57730a11452291414bb6ccad75c35a-4017c6b319717afee9f38d85549863a6:getPixels\n",
      "Please wait ...\n",
      "Data downloaded to /Users/qingling/Documents/UCL/Teaching-2020/GEE/Shenzhen_Landsat_Kmeans_1987.tif\n",
      "{'Year': 1987, 'Urban': 1232, 'Class 2': 1072284, 'Class 3': 423519, 'Class 4': 669464, 'Class 5': 1592380}\n",
      "Generating URL ...\n",
      "Downloading data from https://earthengine.googleapis.com/v1alpha/projects/earthengine-legacy/thumbnails/d0e43d823d7ce6e0a7ed1f9c11959782-117384fc2d9a1815f823387f138c42b7:getPixels\n",
      "Please wait ...\n",
      "Data downloaded to /Users/qingling/Documents/UCL/Teaching-2020/GEE/Shenzhen_Landsat_Kmeans_1997.tif\n",
      "{'Year': 1997, 'Urban': 1138527, 'Class 2': 1050767, 'Class 3': 409195, 'Class 4': 606934, 'Class 5': 553497}\n",
      "Generating URL ...\n",
      "Downloading data from https://earthengine.googleapis.com/v1alpha/projects/earthengine-legacy/thumbnails/ffd46c729c629f4f1cff8ad9be83a5a0-c3ea3a23712f774cc5818f8eeecac493:getPixels\n",
      "Please wait ...\n",
      "Data downloaded to /Users/qingling/Documents/UCL/Teaching-2020/GEE/Shenzhen_Landsat_Kmeans_2007.tif\n",
      "{'Year': 2007, 'Urban': 991944, 'Class 2': 815590, 'Class 3': 350030, 'Class 4': 848970, 'Class 5': 752385}\n"
     ]
    }
   ],
   "source": [
    "cluster_pixels = []\n",
    "\n",
    "for year in range(1987, 2017, 10): # Only to demonstrate every 10 years, but you should run every year \n",
    "    \n",
    "    median_image = load_landsat_collection(year, shenzhen_buffer, cloud_tolerance=3,\\\n",
    "                                          MEDIAN_ONLY = True)\n",
    "    class_result = unsupervised_classifier(median_image, shenzhen_buffer, \\\n",
    "                    n_clusters=5, output_filename=f'Shenzhen_Landsat_Kmeans_{year}.tif',\\\n",
    "                    DISPLAY_ON_MAP = True)\n",
    "    \n",
    "    legend_keys = ['Urban', 'Class 2', 'Class 3',  'Class 4', 'Class 5'] #change the class names\n",
    "    stats = calculate_class_size(class_result, year, legend_keys)\n",
    "    print(stats)\n",
    "    \n",
    "    #if 'Urban' in stats: print(f'There are {int(stats[\"Urban\"])} urban pixles in {str(year)}.')\n",
    "    \n",
    "    cluster_pixels.append(numpy.fromiter(stats.values(), dtype=int))\n",
    "\n",
    "#Map"
   ]
  },
  {
   "cell_type": "markdown",
   "metadata": {},
   "source": [
    "After running the above loop of code to classify a time series of Landsat images, all cluster areas (i.e. pixel counts) have been recorded into the `cluster_pixels` variable, and cluster layers are mapped into the Map."
   ]
  },
  {
   "cell_type": "markdown",
   "metadata": {},
   "source": [
    "## Export results to excel (.csv) files\n",
    "Lastly, we will use the following code to export the sizes of each class/cluster into a csv file, and you will need this file for modeling in the next part of the coursework."
   ]
  },
  {
   "cell_type": "code",
   "execution_count": 31,
   "metadata": {},
   "outputs": [
    {
     "name": "stdout",
     "output_type": "stream",
     "text": [
      "[array([   1987,    1232, 1072284,  423519,  669464, 1592380]), array([   1997, 1138527, 1050767,  409195,  606934,  553497]), array([  2007, 991944, 815590, 350030, 848970, 752385])]\n"
     ]
    }
   ],
   "source": [
    "header = 'Year, ' + ', '.join( legend_keys )\n",
    "numpy.savetxt(\"Shenzhen_pixel_stats.csv\", cluster_pixels, delimiter=\",\", header=header)       "
   ]
  },
  {
   "cell_type": "markdown",
   "metadata": {},
   "source": [
    "# Congratulations (on finishing the classification part)\n",
    "Now you should be able to open the CSV file in excel or R to continue with the [modeling part](https://github.com/qwu-570/GEOG0027_Coursework/blob/2020-2021/docs/6_UrbanModel.ipynb) of the coursework."
   ]
  },
  {
   "cell_type": "code",
   "execution_count": null,
   "metadata": {},
   "outputs": [],
   "source": []
  }
 ],
 "metadata": {
  "kernelspec": {
   "display_name": "Python 3",
   "language": "python",
   "name": "python3"
  },
  "language_info": {
   "codemirror_mode": {
    "name": "ipython",
    "version": 3
   },
   "file_extension": ".py",
   "mimetype": "text/x-python",
   "name": "python",
   "nbconvert_exporter": "python",
   "pygments_lexer": "ipython3",
   "version": "3.7.9"
  }
 },
 "nbformat": 4,
 "nbformat_minor": 4
}
