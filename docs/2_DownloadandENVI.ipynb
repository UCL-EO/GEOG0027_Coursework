{
 "cells": [
  {
   "cell_type": "markdown",
   "metadata": {},
   "source": [
    "![UCL](images/ucl_logo.png)\n",
    "\n",
    "# Download and visualise data \n",
    "\n",
    "## Download"
   ]
  },
  {
   "cell_type": "markdown",
   "metadata": {},
   "source": [
    "In this section, you will learn how to download full image data from a custom directory for this course. These are pre processed anual composites for use in ENVI. We will also explore the Shenzhen region using a web-based app developed using Google Earth Engine (GEE). GEE has access to a large number of Earth Observation and other datasets, and makes it easy to access these and do a some processing (at least for a limited spatial extent if you want high resolution data).\n",
    "\n"
   ]
  },
  {
   "cell_type": "markdown",
   "metadata": {},
   "source": [
    "### Full Composite Images\n",
    "\n",
    "The composite images for the Shenzhen region have been pre-processed for you and can be downloaded using the terminal app. To use with `ENVI` you'll probably want to use the geography UNIX machines, but alternatively you may wish to work on your own computer or UCL Desktop. You will want to create a new directory to store your new image data for the coursework. Remember the shell commands from previous lessons, particularly the \"make directory\" `mkdir` command. \n",
    "\n",
    "Once you've set the directory, set the year you want by modifying and running the below code (this year will not work, no data is available for this year as LandSat hadn't launched yet!):\n",
    "\n",
    "`year=\"1969\"`\n",
    "\n",
    "Then run \n",
    "\n",
    "`cp -r /archive/rsu_raid_0/plewis/public_html/GEOG0027/$year .`\n",
    "\n",
    "\n",
    "The image data can now be opened using ENVI. The file to select using the data manager is just titled with the year only. If other years are required for the analysis you wish to perform, then repeat the two previous commands, with the year adjusted.\n"
   ]
  },
  {
   "cell_type": "markdown",
   "metadata": {},
   "source": [
    "## Visualise spatial data\n",
    "\n",
    "You should be able to conveniently explore the spatial datasets in the GEE App. This is particularly useful for data interpretation (e.g. for training or validation) as you can have a map or high resolution image as a background.\n",
    "\n",
    "You can also load multiple years of data, and visualise the dynamics.\n",
    "\n",
    "Other than that, you will probably want to load the datasets into `envi` for visualisation. If you have correctly stored the data from the `wget` command, you should have in your data directory a series of at least one sub-directory named by year, such as:\n",
    "\n",
    "    1986\t1989\t1992\t1995\t1998\t2001\t2004\t2007\t2010\t2013\t2016\t2019\n",
    "    1987\t1990\t1993\t1996\t1999\t2002\t2005\t2008\t2011\t2014\t2017\n",
    "    1988\t1991\t1994\t1997\t2000\t2003\t2006\t2009\t2012\t2015\t2018\n",
    "    \n",
    "Inside each of these, you should see files such as the following:\n",
    "\n",
    "    22014.constant.tif\t   2014.swir.tif\n",
    "    2014.NDVI.tfw\t\t\t2014.green.tfw\t\t\t\n",
    "    2014.NDVI.tif\t\t\t2014.green.tif\t\t\t\n",
    "    2014.NDWI.tfw\t\t\t2014.nir.tfw\t\t\t\n",
    "    2014.NDWI.tif\t\t\t2014.nir.tif\t\t\t\n",
    "    2014.blue.tfw\t\t\t2014.red.tfw\t\t\t\n",
    "    2014.blue.tif\t\t\t2014.red.tif\t\t\t\n",
    "    2014.constant.tfw\t\t2014.swir.tfw\n",
    "    2014_Shenzhen            2014_Shenzhen.hdr\n",
    "\n",
    "![loaded](images/loaded.jpeg)"
   ]
  },
  {
   "cell_type": "markdown",
   "metadata": {},
   "source": [
    "## Masking Data\n",
    "    \n",
    "Using  file `2014_Shenzhen` as an example we can use the mask in order to calculate pixel statistics.\n",
    "\n",
    "![2014_load](images/2014_load.png)\n",
    "\n",
    "![2014_view](images/2014_view.png)\n",
    "\n"
   ]
  },
  {
   "cell_type": "markdown",
   "metadata": {},
   "source": [
    "You should load and explore the datasets you have downloaded. Provide examples of e.g. interesting spectral profiles, transects, histograms or scatter plots for your report -- things that you would normally produce as part of a data exploration exercise.\n",
    "\n",
    "the histograms are of interest (think about what this means for classification)\n",
    "\n",
    "![histo2014](images/histo2014.png)\n",
    "\n",
    "and the scatterplots in many ways even more interesting:\n",
    "\n",
    "![2014scatter](images/2014scatter.png)\n",
    "\n",
    "\n",
    "You will find it particularly interesting to examine scatter plots of NDVI and NDWI for this dataset as you should see that a pretty good classification can be achieved with just these two bands of data. An advantage of this would be that the processing should be faster (fewer bands), but also that it is straightforward to visualise and appreciate the clusters that will be used to describe the land cover classes.\n",
    "\n",
    "These are not the only 'bands' to explore though! Collect plenty of images of scatterplotas, histograms and images for your write up to illustrate particular things you find. **Don't** just put images in the report with no reference to what you are using them to show!\n",
    "\n",
    "You should spend some time exploring these scatterplots for the different years data: are the patterns consistent? (show some evidence). Can you simply visualise (and explain) the clusters and their relationship to land cover types? In exploring the datasets you should save interesting plots to use in your write-up -- anything that helps you explain what is going on is of value!"
   ]
  },
  {
   "cell_type": "markdown",
   "metadata": {},
   "source": [
    "### Supervised and Unsupervised classification\n",
    "\n",
    "Looking at the write specifications for this part of the project:\n",
    "\n",
    "#### Part 2a:  Data Exploration and Classification Theory\n",
    "\n",
    "[30% of marks in Part 2a]\n",
    "\n",
    "Select data for a single year from [here](http://www2.geog.ucl.ac.uk/~plewis/GEOG0027/).\n",
    "\n",
    "For the data selected for the single year:\n",
    "\n",
    "* Choose one supervised and one unsupervised classification approach (we recommend [Maximum Likelihood](https://www.harrisgeospatial.com/docs/MaximumLikelihood.html) and [ISOData](https://www.harrisgeospatial.com/docs/ISODATAClassification.html));\n",
    "* Theory: describe how the approaches work (noting similarities and differences) and relate this to the information content of your data. Cite literature as appropriate. [10%]\n",
    "* Perform a supervised classification **and** an unsupervised classification using `envi`, relating the training information (e.g. class seperability) to the material presented above;\n",
    "* Present the results of the classification and assess the accuracy of these classifications; [15%]\n",
    "* Discuss the issues raised and how this might translate to unsupervised classification of the whole time series. [5%]\n",
    "\n",
    "\n",
    "We can see that we need to perform both supervised and unsupervised classifications. The supervised classification we have performed in previous lessons. Unsupervised classification algorithms are found in the `ENVI` toolboxes too. These can be run similarly, although they require no ROI. You will want to set and ajust the number of classes in order to investigate the classifier accuracy. Particularly if you wish to use this method when using GEE for the whole timeseries. An example classification:\n",
    "\n",
    "![lut3](images/lut3.png)\n",
    "\n",
    "which is an appropriate interpretation of the clusters.\n",
    "\n",
    "Of course, we might decide to use more clusters (7 here) to get more subtle interpretations, but we will find the classes rather harder to interpret. Possibly the best answer lies somewhere in between. You will need to explore that and come to some (justified) conclusion.\n",
    "\n",
    "![cluster1](images/cluster1.png)\n"
   ]
  },
  {
   "cell_type": "markdown",
   "metadata": {},
   "source": [
    "# Accuracy Assessment\n",
    "\n",
    "It is crucial to show an assessment of classifcation accuracy in order to validate the work using ENVI. This assessment will then be used to validate the decisions made during the time series and  modelling sections. \n",
    "\n",
    "## Using Ground Truth ROIs\n",
    "\n",
    "First a supervised classification can be assed easily using the `Toolbox - Classification - Post Classification - Confusion Matrix From Ground Truth ROIs`. This will by default use the ROIs used to train the classification. Why is this assessment limited? Can you do a similar assessment using an independent set of ROIs? (Hint: make a double set of regions and reasign when setting the matched classes).\n",
    "\n",
    "The output is a [confusion matrix](http://www.exelisvis.com/docs/CalculatingConfusionMatrices.html). This records all the correct pixels (and incorrect) classifcation pixels and shows the overall classification accuracy?\n",
    "\n",
    "![](images/confusion_mat.png)\n",
    "\n",
    "## Using Ground Truth Image\n",
    "\n",
    "After making a \"good\" supervised classification, this can be used to assess an unsupervised classification. This is similar to above, but using `Toolbox - Classification - Post Classification - Confusion Matrix From Ground Truth Image`. The classes need to matched manually as seen below.\n",
    "\n",
    "![](images/GT_image.png)"
   ]
  },
  {
   "cell_type": "markdown",
   "metadata": {},
   "source": [
    "## Pixel counting\n",
    "\n",
    "Finally, you will need to provide a count of the total area of each class, with each pixel being 30 m x 30 m. To do this, you need to count how many pixels are in each class.\n",
    "\n",
    "You can do this in `envi` following the menu items (right hand panel) `Classification -> Post Classification -> Class Statistics`.\n",
    "\n",
    "This will produce the data you need to track land cover for each date. Make a note of the pixel counts for each year.\n",
    "\n",
    "![stats](images/stats.png)"
   ]
  },
  {
   "cell_type": "markdown",
   "metadata": {},
   "source": [
    "## Masking\n",
    "\n",
    "One further file that may be of interest is the file `2014.constant.tif` which you can use as a data mask if you like. The mask has a value of zero for Shenzhen and `no data` outside of that.\n",
    "\n",
    "![mask_image](images/mask.png)\n",
    "\n",
    "\n",
    "To use the above mask as part of a classification it needs ot be first converted.\n",
    "Use `/Raster Management/Build Raster Mask`\n",
    "Select the mask .tif from above. Now use the following options:\n",
    "\n",
    "![mask_options](images/ENVI_mask_options.png)\n",
    "\n",
    "You need to change \"Mask Finite Values\" (select the image again)\n",
    "Then change selected areas \"off\"\n",
    "\n",
    "Save the results to memory or file (you may wish to use it on another image).\n",
    "\n",
    "The new image of [0,1] can now be slected in a classification method from the `Toolbox`. This will enable comparisons to pixel counts obtained using GEE in a later class."
   ]
  },
  {
   "cell_type": "code",
   "execution_count": null,
   "metadata": {},
   "outputs": [],
   "source": []
  }
 ],
 "metadata": {
  "kernelspec": {
   "display_name": "Python 3",
   "language": "python",
   "name": "python3"
  },
  "language_info": {
   "codemirror_mode": {
    "name": "ipython",
    "version": 3
   },
   "file_extension": ".py",
   "mimetype": "text/x-python",
   "name": "python",
   "nbconvert_exporter": "python",
   "pygments_lexer": "ipython3",
   "version": "3.6.12"
  },
  "toc": {
   "base_numbering": 1,
   "nav_menu": {},
   "number_sections": false,
   "sideBar": false,
   "skip_h1_title": false,
   "title_cell": "Table of Contents",
   "title_sidebar": "Contents",
   "toc_cell": false,
   "toc_position": {},
   "toc_section_display": false,
   "toc_window_display": false
  }
 },
 "nbformat": 4,
 "nbformat_minor": 4
}
