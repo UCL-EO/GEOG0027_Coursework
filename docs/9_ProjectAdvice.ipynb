{
 "cells": [
  {
   "cell_type": "markdown",
   "metadata": {},
   "source": [
    "![UCL](https://github.com/profLewis/Geog2021_Coursework/blob/master/images/ucl_logo.png?raw=true)\n",
    "\n",
    "# Project Advice"
   ]
  },
  {
   "cell_type": "markdown",
   "metadata": {},
   "source": [
    "These notes contain various additional pieces of advice about the GEOG0027 coursework.\n",
    "\n",
    "These are formulated as a form of FAQ, in response to questions from students in previous years.\n",
    "\n",
    "If you have additional points you would like advice on or clarification of, please let the course tutor know, or post on the [github page](https://github.com/profLewis/GEOG0027_Coursework)."
   ]
  },
  {
   "cell_type": "markdown",
   "metadata": {},
   "source": [
    "### Selecting Landsat scenes"
   ]
  },
  {
   "cell_type": "markdown",
   "metadata": {},
   "source": [
    "### (i) Data Gaps\n",
    "\n",
    "If you had gaps in your data for land cover, you could still run the model (and complete the practical), but in some cases, change would be calculated over several years (rather than per year). Actually, this is taken into account in the `R` code.\n",
    "\n",
    "e.g. if you have data for 1996 and 2000, then clearly\n",
    "\n",
    "change per year = [urban(2000)-urban(1996)]/(2000-1996)"
   ]
  },
  {
   "cell_type": "markdown",
   "metadata": {},
   "source": [
    "### Range of years to use\n",
    "\n",
    "As you can simply download the data archive, there is not much of a reason to use a truncated dataset.\n",
    "\n",
    "One reason you may decide to leave certain years out of the analysis though, is if you simply can't (demonstrate this!) get a clustering that gives a reasonable or consistent result."
   ]
  },
  {
   "cell_type": "markdown",
   "metadata": {},
   "source": [
    "### Data for Modelling\n",
    "\n",
    "> I have been looking at the modelling of the classified areas.  I realise the formula is the urban growth formula from your notes.  However, when looking closely at the formula I understand that the log for the wages in private units(b3) and average total wages (b4) are not including in the formula.  Are these values already calculated to their logarithmic value or should we add this to the formula when applying our own data?\n",
    "\n",
    "Response:\n",
    " \n",
    ">The titles in the spreadsheet say e.g. 'average total wages (yuan)' ... since the formula ('model') you are using states the variable as log(average total wages), then you *should* apply a log transform.\n",
    " \n",
    "Another comment:\n",
    "\n",
    "> Also, I am a bit confused with the modelling with the parameters a b1 b2 b3 b4 b5 do we use trial and error to find the values that fit in our model or do we have to calculate these values?\n",
    " \n",
    "Response:\n",
    "\n",
    ">No -- you should not use trial and error. The equation is simply a multi-variate linear regression model. You are supposed to have learned how to solve with R for the parameters of that in your first year, which is why I give not explicit instructions here.\n",
    " \n",
    ">To better understand this, imagine that your model had only 1 input variable (e.g. population). In that case, the model would be:\n",
    " \n",
    ">`urban_change = a + b population`\n",
    "\n",
    ">and if you plotted urban_change as a function of population, this model would be assuming that there is s straight line describing this. In that case, you can interpret the 'parameter' a as the 'intercept' and the parameter 'b' as the slope (of the line). To estimate these from data, you would not guess the values, you would perform a linear regression. The same idea holds in this practical, but it is a multi-variate linear relationship.\n",
    " \n",
    ">I hope that helps\n",
    " \n",
    ">Lewis"
   ]
  },
  {
   "cell_type": "code",
   "execution_count": null,
   "metadata": {},
   "outputs": [],
   "source": []
  }
 ],
 "metadata": {
  "kernelspec": {
   "display_name": "Python 3",
   "language": "python",
   "name": "python3"
  },
  "language_info": {
   "codemirror_mode": {
    "name": "ipython",
    "version": 3
   },
   "file_extension": ".py",
   "mimetype": "text/x-python",
   "name": "python",
   "nbconvert_exporter": "python",
   "pygments_lexer": "ipython3",
   "version": "3.7.9"
  },
  "toc": {
   "base_numbering": 1,
   "nav_menu": {},
   "number_sections": false,
   "sideBar": false,
   "skip_h1_title": false,
   "title_cell": "Table of Contents",
   "title_sidebar": "Contents",
   "toc_cell": false,
   "toc_position": {
    "height": "calc(100% - 180px)",
    "left": "10px",
    "top": "150px",
    "width": "165px"
   },
   "toc_section_display": false,
   "toc_window_display": false
  }
 },
 "nbformat": 4,
 "nbformat_minor": 1
}
