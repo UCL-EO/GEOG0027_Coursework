{
 "cells": [
  {
   "cell_type": "markdown",
   "metadata": {},
   "source": [
    "![UCL](https://github.com/profLewis/Geog2021_Coursework/blob/master/images/ucl_logo.png?raw=true)\n",
    "\n",
    "# Using ENVI on your own computer"
   ]
  },
  {
   "cell_type": "markdown",
   "metadata": {},
   "source": [
    "##  Introduction\n",
    "\n",
    "In these notes, we outline how you can do the image processing coursework for GEOG0027 using remote access UCL computing resources in a browser on any computer [Desktop@UCL Anywhere](https://www.ucl.ac.uk/isd/services/computers/remote-access/desktopucl-anywhere).\n",
    "\n",
    "## Desktop@UCL\n",
    "\n",
    "First, make sure you have [Desktop@UCL Anywhere](https://www.ucl.ac.uk/isd/services/computers/remote-access/desktopucl-anywhere) setup and the relevant software installed. Just follow the instructions on [Desktop@UCL Anywhere](https://www.ucl.ac.uk/isd/services/computers/remote-access/desktopucl-anywhere). If this has worked, you should see the following window in your browser:\n",
    "\n",
    "![https://my.desktop.ucl.ac.uk/Citrix/StoreWeb/](images/dta1.png)\n",
    "\n",
    "Click on the Desktop icon to launch Desktop. This will give you a windows session, running in your browser, connected to your UCL account.\n",
    "\n",
    "**NOTICE ENVI has been installed on Desktop anywhere since 2020**"
   ]
  },
  {
   "cell_type": "markdown",
   "metadata": {},
   "source": [
    "## Stand-alone installation of ENVI\n",
    "\n",
    "**EVERY time** you want to use this program you must be connected to the UCL domain (see [below](#Set-up-a-UCL-VPN-connection). \n",
    "\n",
    "If you are using your own computer you will need to install the ENVI software and license from the [UCL software database](https://swdb.ucl.ac.uk).\n",
    "\n",
    "![envi1](images/envi1.png)\n",
    "\n",
    "\n",
    "\n",
    "### Downloading and Installing ENVI\n",
    "\n",
    "Download ENVI from http://swdb.ucl.ac.uk/package/view/id/142?filter=envi, getting the appropriate version for your computer (Mac, Windows or Linux).\n",
    "\n",
    "![envi123](images/envi123.png)\n",
    "\n",
    "Follow the instructions on the screen to install the software.\n",
    "\n",
    "Further instructions on how to install ENVI can be found here: \n",
    "\n",
    "* [Windows](https://www.ucl.ac.uk/isd/how-to/how-to-install-envi-54-for-windows)\n",
    "* [Mac](https://www.ucl.ac.uk/isd/how-to/how-to-install-envi-54-for-mac)\n",
    "\n",
    "\n",
    "Once the installation has been completed you will be prompted to start the License Administrator select `YES` to begin the licensing process \n",
    "Select `‘User License Server’` and input `lic-envi-idl.ucl.ac.uk` as the server name and `7070` as the port number.\n",
    "\n",
    "Click Connect and then close.\n",
    "\n",
    "![harris1](images/harris1.png)\n",
    "\n",
    "\n",
    "## Set up a UCL VPN connection\n",
    "\n",
    "If you are outside the university you will need to setup a Virtual Private Network (VPN) connection. This involves downloading software from ISD.\n",
    "\n",
    "**EVERY time** you want to use this program you must be connected to the UCL domain. \n",
    "\n",
    "### For Windows:\n",
    "\n",
    "* To setup a VPN connection please refer to https://www.ucl.ac.uk/isd/how-to/connecting-to-ucl-vpn-microsoft-windows  \n",
    "    [![vpn1](images/vpn1.png)](https://www.ucl.ac.uk/isd/how-to/connecting-to-ucl-vpn-microsoft-windows)\n",
    "\n",
    "    This involves downloading, installing and running `Cisco` `anyconnect` software.\n",
    "\n",
    "    Note that your machine needs to be running an anti-virus product. Further information on obtaining these products can be found at:\n",
    "\n",
    "    [http://swdb.ucl.ac.uk/?filter=firewall](http://swdb.ucl.ac.uk/?filter=firewall)\n",
    "    \n",
    "    [http://swdb.ucl.ac.uk/?filter=anti%20virus](http://swdb.ucl.ac.uk/?filter=anti%20virus)\n",
    "\n",
    "Once installed, connect the VPN to vpn.ucl.ac.uk and follow the instructions below.\n",
    "\n",
    "**EVERY time** you want to use ENVI you must be connected to the UCL domain. \n",
    "\n",
    "### For Mac:\n",
    "\n",
    "* **VPN**\n",
    "\n",
    "    To setup a VPN connection please refer to https://www.ucl.ac.uk/isd/how-to/connecting-to-ucl-vpn-mac-os-x\n",
    "    \n",
    "    This involves downloading, installing and running `Cisco` `anyconnect` software.\n",
    "\n",
    "    Note that your machine needs to be running an anti-virus product. Further information on obtaining these products can be found at:\n",
    "\n",
    "    [http://swdb.ucl.ac.uk/?filter=firewall](http://swdb.ucl.ac.uk/?filter=firewall)\n",
    "    \n",
    "    [http://swdb.ucl.ac.uk/?filter=anti%20virus](http://swdb.ucl.ac.uk/?filter=anti%20virus)\n",
    "\n",
    "\n",
    "* **Additional software**\n",
    "\n",
    "\n",
    "    Note that, if you are using a Mac, you will need to install [XQuartz](https://www.xquartz.org) as well (unless you already have it installed) to be able to use ENVI.\n",
    "\n",
    "Once installed, connect the VPN to vpn.ucl.ac.uk and follow the instructions below.\n",
    "\n",
    "**EVERY time** you want to use ENVI you must be connected to the UCL domain. "
   ]
  },
  {
   "cell_type": "markdown",
   "metadata": {},
   "source": [
    "## Using ENVI for GEOG0027 Classification (Skip this step if you wish to use python-based GEEMAP)\n",
    "\n",
    "### For Windows"
   ]
  },
  {
   "cell_type": "markdown",
   "metadata": {},
   "source": [
    "#### Downloading the required files\n",
    "\n",
    "* Create a folder on your device (e.g. on the `Desktop` or on the 'N:' drive as we have done before) called `GEOG0027`. Within this, create a new folder called `gee` (standing for `Google Earth Engine`). \n",
    "\n",
    "This is where you are going to do your work. You might, for instance, do this on your `Desktop`.\n",
    "\n",
    "Note that the `path` of your working directory (that we will need later) will relate to how you set this up, so **make a note of it now**.\n",
    "\n",
    "For example:\n",
    "\n",
    "    C:\\Users\\YOURUSERNAME\\Desktop\\GEOG0027\\gee\n",
    "    C:\\GEOG0027\\gee\n",
    "\n",
    "\n",
    "* Go to the web page [http://www2.geog.ucl.ac.uk/~plewis/GEOG0027/](http://www2.geog.ucl.ac.uk/~plewis/GEOG0027/) and download the files:\n",
    "\n",
    "    [http://www2.geog.ucl.ac.uk/~plewis/GEOG0027/classy.zip](http://www2.geog.ucl.ac.uk/~plewis/GEOG0027/classy.zip)\n",
    "    \n",
    "    [http://www2.geog.ucl.ac.uk/~plewis/GEOG0027/gee.zip](http://www2.geog.ucl.ac.uk/~plewis/GEOG0027/gee.zip)\n",
    "    \n",
    "    \n",
    "* You *may* need some additional software to 'unzip' files. Some free software that works and UCL recommend is 7zip. Go to their website and install it (you will probably want the '64-bit' version, unless you have a very old computer).  \n",
    "\n",
    "[![zip71](images/zip71.png)](https://www.7-zip.org)\n",
    "\n",
    "* When the data files (`classy.zip` and `gee.zip`) have downloaded (the `gee.zip` file will take a few minutes), you should just be able to click on them to run your software that will uncompress the files. You will want to extract them into your `GEOG0027\\gee` folder:\n",
    "\n",
    "![zip72](images/zip72.png)]\n",
    "\n",
    "You should now be able to navigate to your `GEOG0027\\gee` folder and see the downloaded files:\n",
    "\n",
    "    1986 1987 1988 1989 1990 1991 1992 1993 1994 1995 \n",
    "    1996 1997 1998 1999 2000 2001 2002 2003 2004 2005 \n",
    "    2006 2007 2008 2009 2010 2011 2012 2013 2014 2015 \n",
    "    2016 2017 2018 2019\n",
    "    classy.pro \n",
    "    classy_lut1.dat classy_lut3.dat classy_lut4.dat\n",
    "    \n",
    "    \n",
    "Once you have successfully installed ENVI ([above](#Downloading-and-Installing-ENVI)), navigate to `C:\\Program Files\\HARRIS\\ENVI` and open `ENVI + IDL (64 bit)`:\n",
    "\n",
    "![harris2](images/harris2.png)\n",
    "\n",
    "In the console that appears, type the following (adapted to where you have put your own data):\n",
    "\n",
    "    cd, ‘C:\\Users\\YOURUSERNAME\\Desktop\\GEOG0027\\gee’ \n",
    "    \n",
    "or\n",
    "    \n",
    "    cd, ‘N:\\GEOG0027\\gee’ \n",
    "    \n",
    "\n",
    "* The comma `,` and quotes `'` are important! \n",
    "* Don't put `YOURUSERNAME` ... put your username.\n",
    "\n",
    "![harris3](images/harris3.png)\n",
    "\n",
    "\n",
    "You will now be able to carry out the tasks we have been doing in the practical’s for example by loading the data into ENVI through this console which can then be opened in ENVI:\n",
    "\n",
    "\n",
    "![harris4](images/harris4.png)\n",
    "\n"
   ]
  },
  {
   "cell_type": "markdown",
   "metadata": {},
   "source": [
    "### For Linux (Unix) or Mac\n",
    "\n",
    "#### Command line and some unix commands\n",
    "\n",
    "When, in the notes, we say 'type at the command line', we mean that youy should type the command in what you might call a `Terminal` or `shelltool`. On a Mac, find this under `/Applications/Utilities/Terminal.app` in `Finder`. On linux, it should be obvious (!).\n",
    "\n",
    "The shell will show a prompt, e.g.:\n",
    "\n",
    "    %bash\n",
    "    \n",
    "To 'type a command', type at the prompt, then hit `<return>` to run the command.\n",
    "\n",
    "    % bash\n",
    "   \n",
    "It is helpful to know a *few* unix commands. The ones we will use are:\n",
    "\n",
    "\n",
    "    echo       :  print out a shell or environment variable\n",
    "    mkdir -p   :  create a directory (the -p option means not \n",
    "                  to complain if it already exists)\n",
    "    cd         :  change directory, i.e. move to somewhere on the\n",
    "                  file system.\n",
    "    pwd        :  print working directory \n",
    "                  (i.e. where am I in the file system?)\n",
    "    ls -lh     :  provide a listing of files. The -l option \n",
    "                  provides a 'long' listing. The -h option \n",
    "                  gives the file size in 'human readable' format\n",
    "\n",
    "We need to make sure we are clear about where we will be working. \n",
    "\n",
    "Let's assume this is `${HOME}/DATA/GEOG0027/gee`.\n",
    "\n",
    "Try the following commands (don't type the `%%bash` part):"
   ]
  },
  {
   "cell_type": "code",
   "execution_count": 2,
   "metadata": {},
   "outputs": [
    {
     "name": "stdout",
     "output_type": "stream",
     "text": [
      "print a shell/environment variable value:\n",
      "/Users/h\n",
      "\n",
      "make a directory for our data\n",
      "\n",
      "Change directory to the data area\n",
      "\n",
      "we are: (using pwd)\n",
      "/Users/h/DATA/GEOG0027/gee\n",
      "\n",
      "get a long file listing\n",
      "\n",
      "get a short file listing\n"
     ]
    }
   ],
   "source": [
    "%%bash\n",
    "\n",
    "# print the value of ${HOME} (our home on the system)\n",
    "echo \"print a shell/environment variable value:\"\n",
    "echo ${HOME}\n",
    "# the echo here is to print a blank line\n",
    "# to space the text out. Not something you'd\n",
    "# normally do!\n",
    "echo\n",
    "\n",
    "# create the data directory \n",
    "echo \"make a directory for our data\"\n",
    "mkdir -p ${HOME}/DATA/GEOG0027/gee\n",
    "echo\n",
    "\n",
    "# change to that directory\n",
    "echo \"Change directory to the data area\"\n",
    "cd ${HOME}/DATA/GEOG0027/gee\n",
    "echo\n",
    "\n",
    "# print where we are\n",
    "echo \"we are: (using pwd)\"\n",
    "pwd\n",
    "echo\n",
    "\n",
    "# see what files we have (this might be nothing at first!)\n",
    "echo \"get a long file listing\"\n",
    "ls -lh \n",
    "echo\n",
    "\n",
    "# sometimes, we will just use ls, \n",
    "# a simple listing of what files there are:\n",
    "echo \"get a short file listing\"\n",
    "ls"
   ]
  },
  {
   "cell_type": "markdown",
   "metadata": {},
   "source": [
    "#### Pull some files from the internet\n",
    "\n",
    "We will now pull some data and code files we need for this work. They are all available through the link [http://www2.geog.ucl.ac.uk/~plewis/GEOG0027](http://www2.geog.ucl.ac.uk/~plewis/GEOG0027), but we can directly pull the files from the command line.\n",
    "\n",
    "To do this, we need two more unix commands:\n",
    "\n",
    "    curl       :  get a file from a URL\n",
    "    tar        :  File comnpression and uncompression\n",
    "    \n",
    "Pulling the files will take a little time, but you only need to do this once!"
   ]
  },
  {
   "cell_type": "code",
   "execution_count": 26,
   "metadata": {},
   "outputs": [
    {
     "name": "stderr",
     "output_type": "stream",
     "text": [
      "  % Total    % Received % Xferd  Average Speed   Time    Time     Time  Current\n",
      "                                 Dload  Upload   Total   Spent    Left  Speed\n",
      "100  2622  100  2622    0     0   102k      0 --:--:-- --:--:-- --:--:--  102k\n",
      "  % Total    % Received % Xferd  Average Speed   Time    Time     Time  Current\n",
      "                                 Dload  Upload   Total   Spent    Left  Speed\n",
      "100 2944M  100 2944M    0     0  10.4M      0  0:04:41  0:04:41 --:--:-- 11.2M\n"
     ]
    }
   ],
   "source": [
    "%%bash\n",
    "\n",
    "# just to be safe, make sure we have the data directory!\n",
    "mkdir -p ${HOME}/DATA/GEOG0027/gee\n",
    "# and go there\n",
    "cd ${HOME}/DATA/GEOG0027/gee\n",
    "\n",
    "# pull the code file:\n",
    "curl http://www2.geog.ucl.ac.uk/~plewis/GEOG0027/classy.tar.Z -o classy.tar.Z \n",
    "# pull the data file: this will take a few minutes!!\n",
    "curl http://www2.geog.ucl.ac.uk/~plewis/GEOG0027/gee.tar.Z -o gee.tar.Z"
   ]
  },
  {
   "cell_type": "markdown",
   "metadata": {},
   "source": [
    "This should have pulled the files we need to the local file system.\n",
    "\n",
    "We can check this, and then uncompress the files:"
   ]
  },
  {
   "cell_type": "code",
   "execution_count": 31,
   "metadata": {},
   "outputs": [
    {
     "name": "stdout",
     "output_type": "stream",
     "text": [
      "-rw-r--r--  1 plewis  staff   2.6K  8 Feb 13:21 classy.tar.Z\n",
      "-rw-r--r--  1 plewis  staff   2.9G  8 Feb 13:26 gee.tar.Z\n"
     ]
    },
    {
     "name": "stderr",
     "output_type": "stream",
     "text": [
      "x classy_lut1.dat\n",
      "x classy_lut3.dat\n",
      "x classy_lut4.dat\n",
      "x classy.pro\n"
     ]
    }
   ],
   "source": [
    "%%bash\n",
    "\n",
    "# just to be safe, make sure we have the data directory!\n",
    "mkdir -p ${HOME}/DATA/GEOG0027/gee\n",
    "# and go there\n",
    "cd ${HOME}/DATA/GEOG0027/gee\n",
    "\n",
    "# get a long listing of the pulled files\n",
    "# to see they are the right size\n",
    "ls -lh classy.tar.Z gee.tar.Z\n",
    "\n",
    "# uncompress them\n",
    "tar xvzf classy.tar.Z\n",
    "tar xzf gee.tar.Z "
   ]
  },
  {
   "cell_type": "markdown",
   "metadata": {},
   "source": [
    "Let's just do a final check that the files are there:"
   ]
  },
  {
   "cell_type": "code",
   "execution_count": 1,
   "metadata": {},
   "outputs": [
    {
     "name": "stdout",
     "output_type": "stream",
     "text": [
      "1986\n",
      "1987\n",
      "1988\n",
      "1989\n",
      "1990\n",
      "1991\n",
      "1992\n",
      "1993\n",
      "1994\n",
      "1995\n",
      "1996\n",
      "1997\n",
      "1998\n",
      "1999\n",
      "2000\n",
      "2001\n",
      "2002\n",
      "2003\n",
      "2004\n",
      "2005\n",
      "2006\n",
      "2007\n",
      "2008\n",
      "2009\n",
      "2010\n",
      "2011\n",
      "2012\n",
      "2013\n",
      "2014\n",
      "2015\n",
      "2016\n",
      "2017\n",
      "2018\n",
      "2019\n",
      "classy.pro\n",
      "classy.tar.Z\n",
      "classy_lut1.dat\n",
      "classy_lut3.dat\n",
      "classy_lut4.dat\n",
      "gee.tar.Z\n"
     ]
    }
   ],
   "source": [
    "%%bash\n",
    "cd ${HOME}/DATA/GEOG0027/gee\n",
    "\n",
    "# now ls\n",
    "ls"
   ]
  },
  {
   "cell_type": "markdown",
   "metadata": {},
   "source": [
    "#### Using ENVI\n",
    "\n",
    "Now we have the files and setup we need, we can simply run `envi`. To do this, type `envi` at the command line prompt:"
   ]
  },
  {
   "cell_type": "code",
   "execution_count": 1,
   "metadata": {},
   "outputs": [
    {
     "name": "stderr",
     "output_type": "stream",
     "text": [
      "IDL 8.7.0 (darwin x86_64 m64).\n",
      "(c) 2018, Harris Geospatial Solutions, Inc.\n",
      "\n",
      "Licensed for use by: University College London-CHEST\n",
      "License: 405435-CHEST:****-****-****-B2C6\n",
      "License expires  5-Mar-2019.\n",
      "A new version is available: IDL 8.7.1\n",
      "https://harrisgeospatial.flexnetoperations.com\n",
      " \n",
      "% Restored file: ENVI.\n",
      "% Loaded DLM: PNG.\n",
      "% Loaded DLM: HPGRAPHICS.\n",
      "% Loaded DLM: XML.\n"
     ]
    }
   ],
   "source": [
    "%%bash \n",
    "/Applications/harris/envi/bin/envi"
   ]
  },
  {
   "cell_type": "markdown",
   "metadata": {},
   "source": [
    "## For Windows or UCL Desktop\n",
    "\n",
    "#### Command line and some MS-DOS commands\n",
    "\n",
    "When, in the notes, we say 'type at the command line', we mean that you should type the command in what you might call a `Terminal` or `shelltool`. On UCL Desktop this is in `Windows System -> Command Prompt`.\n",
    "\n",
    "MS DOS will show a prompt, e.g.:\n",
    "\n",
    "    C:\\Users\\zzname>\n",
    "    \n",
    "To 'type a command', type at the prompt, then hit `<return>` to run the command.\n",
    "   \n",
    "It is helpful to know a *few* DOS commands. The ones we will use are:\n",
    "\n",
    "\n",
    "    echo       :  print out a shell or environment variable\n",
    "    mkdir -p   :  create a directory (the -p option means not \n",
    "                  to complain if it already exists)\n",
    "    cd         :  change directory, i.e. move to somewhere on the\n",
    "                  file system.\n",
    "    cd ,       :  print working directory \n",
    "                  (i.e. where am I in the file system?) \n",
    "                  (although DOS shows this as default)\n",
    "    dir /w     :  provide a listing of files. The /w option\n",
    "                  provides a 'short' listing. \n",
    "\n",
    "We need to make sure we are clear about where we will be working. \n",
    "\n",
    "Let's assume this is `N:/DATA/GEOG0027/gee`.\n",
    "\n",
    "Try the following commands:"
   ]
  },
  {
   "cell_type": "markdown",
   "metadata": {},
   "source": [
    "\n",
    "print the value of ${HOME} (our home on the system)\n",
    "    echo \"print a shell/environment variable value:\"\n",
    "the echo here is to print a blank line\n",
    "to space the text out. Not something you'd\n",
    "normally do!\n",
    "    echo\n",
    "\n",
    "\n",
    "create the data directory \n",
    "first we have to move to the N: drive. This is done seperately\n",
    "\n",
    "    N:\n",
    "now we can make a directory\n",
    "but first make sure you're in the correct place.\n",
    "to move back 'up' the directory structure use \n",
    "\n",
    "    cd .. \n",
    "to move to the top directory use\n",
    "\n",
    "    cd \\\n",
    "    \n",
    "    echo \"make a directory for our data\"\n",
    "\n",
    "    mkdir \\DATA\n",
    "    mkdir \\DATA\\GEOG0027\n",
    "    mkdir \\DATA\\GEOG0027\\gee\n",
    "\n",
    "    echo\n",
    "\n",
    "change to that directory\n",
    "\n",
    "    echo \"Change directory to the data area\"\n",
    "    cd \\DATA\\GEOG0027\\gee\n",
    "    echo\n",
    "\n",
    "print where we are\n",
    "\n",
    "    echo \"we are: (using dir)\"\n",
    "    dir\n",
    "    echo\n",
    "\n",
    "see what files we have (this might be nothing at first!)\n",
    "\n",
    "    echo \"get a long file listing\"\n",
    "    dir\n",
    "    echo\n",
    "\n",
    "sometimes, we will just use dir /w\n",
    "a simple listing of what files there are:\n",
    "\n",
    "    echo \"get a short file listing\"\n",
    "    dir /w"
   ]
  },
  {
   "cell_type": "markdown",
   "metadata": {},
   "source": [
    "#### Pull some files from the internet\n",
    "\n",
    "We will now pull some data and code files we need for this work. They are all available through the link [http://www2.geog.ucl.ac.uk/~plewis/GEOG0027](http://www2.geog.ucl.ac.uk/~plewis/GEOG0027), but we can directly pull the files from the command line.\n",
    "\n",
    "To do this, we need two more unix commands:\n",
    "\n",
    "    curl       :  get a file from a URL\n",
    "    tar        :  File comnpression and uncompression\n",
    "    \n",
    "Pulling the files will take a little time, but you only need to do this once!"
   ]
  },
  {
   "cell_type": "markdown",
   "metadata": {},
   "source": [
    "just to be safe, make sure we have the data directory!\n",
    "\n",
    "    mkdir \\DATA\\GEOG0027\\gee\n",
    "and go there\n",
    "\n",
    "    cd \\DATA\\GEOG0027\\gee\n",
    "\n",
    "pull the code file:\n",
    "\n",
    "    curl http://www2.geog.ucl.ac.uk/~plewis/GEOG0027/classy.tar.Z -o classy.tar.Z \n",
    "pull the data file: this will take a few minutes!!\n",
    "\n",
    "    curl http://www2.geog.ucl.ac.uk/~plewis/GEOG0027/gee.tar.Z -o gee.tar.Z"
   ]
  },
  {
   "cell_type": "markdown",
   "metadata": {},
   "source": [
    "This should have pulled the files we need to the local file system.\n",
    "\n",
    "We can check this, and then uncompress the files:"
   ]
  },
  {
   "cell_type": "markdown",
   "metadata": {},
   "source": [
    "just to be safe, make sure we have the data directory!\n",
    "\n",
    "    mkdir \\DATA\\GEOG0027\\gee\n",
    "and go there\n",
    "\n",
    "    cd \\DATA\\GEOG0027\\gee\n",
    "\n",
    "get a long listing of the pulled files\n",
    "to see they are the right size\n",
    "\n",
    "    dir classy.tar.Z gee.tar.Z\n",
    "\n",
    "uncompress them\n",
    "\n",
    "    tar xvzf classy.tar.Z\n",
    "    tar xzf gee.tar.Z "
   ]
  },
  {
   "cell_type": "markdown",
   "metadata": {},
   "source": [
    "Let's just do a final check that the files are there:\n",
    "\n",
    "    cd \\GEOG0027\\gee\n",
    "\n",
    "now dir\n",
    "    dir"
   ]
  },
  {
   "cell_type": "markdown",
   "metadata": {},
   "source": [
    "## Summary"
   ]
  },
  {
   "cell_type": "markdown",
   "metadata": {},
   "source": [
    "In this section, we have learned how to install the data files and software needed to do the coursework on your own computer, for your convenience. You can use all of the (linux) machines in the Geography lab, as we do in class, without the need for your own computer or any of this installation. Ideally, this should all be available on `Desktop@UCL` but that is not currently the case.\n",
    "\n",
    "\n",
    "* Instructions summary / checklist:\n",
    "    * [Download and install ENVI and active license](#Stand-alone-installation-of-ENVI)\n",
    "    * [Set up and install VPN](#Set-up-a-UCL-VPN-connection)\n",
    "    * Windows: [Download the data files and run ENVI + IDL](#Using-ENVI-for-GEOG0027-on-a-PC-(windows-machine))\n",
    "    * Mac or Linux: [Download the data files and run envi](#Using-ENVI-for-GEOG0027-on-linux-(Unix)-or-Mac-(apple-machine))\n",
    "    * Windows or UCL Desktop: [Download the data files](#For-Windows-or-UCL-Desktop)"
   ]
  },
  {
   "cell_type": "code",
   "execution_count": null,
   "metadata": {},
   "outputs": [],
   "source": []
  }
 ],
 "metadata": {
  "kernelspec": {
   "display_name": "Python 3",
   "language": "python",
   "name": "python3"
  },
  "language_info": {
   "codemirror_mode": {
    "name": "ipython",
    "version": 3
   },
   "file_extension": ".py",
   "mimetype": "text/x-python",
   "name": "python",
   "nbconvert_exporter": "python",
   "pygments_lexer": "ipython3",
   "version": "3.6.12"
  },
  "toc": {
   "base_numbering": 1,
   "nav_menu": {},
   "number_sections": false,
   "sideBar": false,
   "skip_h1_title": false,
   "title_cell": "Table of Contents",
   "title_sidebar": "Contents",
   "toc_cell": false,
   "toc_position": {
    "height": "calc(100% - 180px)",
    "left": "10px",
    "top": "150px",
    "width": "353.796875px"
   },
   "toc_section_display": false,
   "toc_window_display": false
  }
 },
 "nbformat": 4,
 "nbformat_minor": 4
}
