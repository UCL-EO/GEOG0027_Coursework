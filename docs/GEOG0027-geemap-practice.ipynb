{
 "cells": [
  {
   "cell_type": "markdown",
   "metadata": {},
   "source": [
    "## GEOG0027 (2020/1) Classification with Google Earth Engine (GEE)"
   ]
  },
  {
   "cell_type": "markdown",
   "metadata": {},
   "source": [
    "This practical will use Google Earth Engine (GEE)'s python library [EE](https://developers.google.com/earth-engine) and [geemap library](https://geemap.org/) to automatically classify land covers and land uses in Shenzhen area. These two libraries are built to handle remote sensing (RS) data from the Cloud without physically downloading the data to our local computers, and they also allow easy python coding, where only small modifications are needed before handling large datasets. GEE hosts many popular RS datasets on the Cloud, and details of its data catalog can be found at: https://developers.google.com/earth-engine/datasets.\n",
    "\n",
    "For the Shenzhen classification work, we start from displaying a basemap of the area."
   ]
  },
  {
   "cell_type": "code",
   "execution_count": 1,
   "metadata": {},
   "outputs": [
    {
     "data": {
      "application/vnd.jupyter.widget-view+json": {
       "model_id": "b9ea65a0679b404f932a697e35bd9896",
       "version_major": 2,
       "version_minor": 0
      },
      "text/plain": [
       "Map(center=[22.634, 114.19], controls=(WidgetControl(options=['position'], widget=HBox(children=(ToggleButton(…"
      ]
     },
     "metadata": {},
     "output_type": "display_data"
    }
   ],
   "source": [
    "import geemap, ee, os\n",
    "\n",
    "Map = geemap.Map(center=[22.634, 114.19], zoom=9)\n",
    "Map"
   ]
  },
  {
   "cell_type": "markdown",
   "metadata": {},
   "source": [
    "## Examining the time series\n",
    "Let's define a rectangular region of interest, following [min lon, min lat, max mon, max lat] first, and display a short 'movie' (a .gif file in fact) of how this area has changed over the past decades."
   ]
  },
  {
   "cell_type": "code",
   "execution_count": 2,
   "metadata": {},
   "outputs": [
    {
     "name": "stdout",
     "output_type": "stream",
     "text": [
      "{'type': 'Polygon', 'coordinates': [[[113.7659, 22.4], [114.6654, 22.4], [114.6654, 22.8536], [113.7659, 22.8536], [113.7659, 22.4]]]}\n"
     ]
    }
   ],
   "source": [
    "shenzhen_rec = ee.Geometry.Rectangle([113.7659, 22.40, 114.6654, 22.8536]) \n",
    "Map.addLayer(shenzhen_rec, {}, 'AOI rec')\n",
    "print(shenzhen_rec.getInfo())"
   ]
  },
  {
   "cell_type": "code",
   "execution_count": 2,
   "metadata": {},
   "outputs": [
    {
     "name": "stdout",
     "output_type": "stream",
     "text": [
      "{'type': 'Polygon', 'coordinates': [[[113.7659, 22.4], [114.6654, 22.4], [114.6654, 22.8536], [113.7659, 22.8536], [113.7659, 22.4]]]}\n",
      "Generating URL...\n",
      "Downloading GIF image from https://earthengine.googleapis.com/v1alpha/projects/earthengine-legacy/videoThumbnails/fe35de13a51e97410db5e2a076d03f36-bf580ddde140dfc86a157c8a3a727dd4:getPixels\n",
      "Please wait ...\n",
      "The GIF image has been saved to: /Users/qingling/Downloads/landsat_ts_mjf.gif\n",
      "Adding animated text to GIF ...\n",
      "Adding GIF to the map ...\n",
      "The timelapse has been added to the map.\n"
     ]
    }
   ],
   "source": [
    "Map_gif = geemap.Map(center=[22.7511, 113.91], zoom=10)\n",
    "Map_gif.add_landsat_ts_gif(roi=shenzhen_rec, start_year=1985, bands=['NIR', 'Red', 'Green'], frames_per_second=5)"
   ]
  },
  {
   "cell_type": "markdown",
   "metadata": {},
   "source": [
    "![shenzhengif](../../../../Downloads/landsat_ts_qfo.gif \"shenzhen\")"
   ]
  },
  {
   "cell_type": "markdown",
   "metadata": {},
   "source": [
    "Next, we will compare such change by using a slider"
   ]
  },
  {
   "cell_type": "code",
   "execution_count": 3,
   "metadata": {
    "code_folding": [],
    "scrolled": false
   },
   "outputs": [
    {
     "data": {
      "application/vnd.jupyter.widget-view+json": {
       "model_id": "687e9fe86132496c967c5104545f2bd9",
       "version_major": 2,
       "version_minor": 0
      },
      "text/plain": [
       "Map(center=[22.627302103068118, 114.2156500000001], controls=(WidgetControl(options=['position'], widget=Dropd…"
      ]
     },
     "metadata": {},
     "output_type": "display_data"
    }
   ],
   "source": [
    "landsat_ts = geemap.landsat_timeseries(roi=shenzhen_rec, start_year=1986, end_year=2020, \\\n",
    "                                       start_date='01-01', end_date='12-31')\n",
    "\n",
    "layer_names = ['Landsat ' + str(year) for year in range(1986, 2021)]\n",
    "\n",
    "geemap_landsat_vis = {\n",
    "    'min': 0,\n",
    "    'max': 3000,\n",
    "    'gamma': [1, 1, 1],\n",
    "    'bands': ['NIR', 'Red', 'Green']} # You can change the vis bands here\n",
    "\n",
    "Map2 = geemap.Map()\n",
    "Map2.ts_inspector(left_ts=landsat_ts, right_ts=landsat_ts, left_names=layer_names, right_names=layer_names, \\\n",
    "                 left_vis=geemap_landsat_vis, right_vis=geemap_landsat_vis)\n",
    "Map2.centerObject(shenzhen_rec, zoom=10)\n",
    "Map2"
   ]
  },
  {
   "cell_type": "markdown",
   "metadata": {},
   "source": [
    "We have manually defined a rectangle for Shenzhen area, but we can also use shape/vector files to select Areas of Interest. "
   ]
  },
  {
   "cell_type": "markdown",
   "metadata": {},
   "source": [
    "# Select 'Shenzhen' as the area of interest (AOI)\n",
    "The vector border layer is imported from https://developers.google.com/earth-engine/datasets/tags/borders, which includes the [Global Administrative Unit Layers (GAUL) data](https://developers.google.com/earth-engine/datasets/catalog/FAO_GAUL_2015_level2) from 2015. You may notice that Shenzhen's boundary has expanded since (e.g. coastal landfill). We can manually draw some polygon and clip it to the GAUL border file, or, to make a simple example, we can add some 'buffer' (e.g. 3000 meters) to the GAUL boundary data. This inevitably will introduce some areas outside the border of Shenzhen, e.g. part of Hong Kong, so you can work out some more elegant way to combining/clipping multiple mask layers if time allows. Justify you choice and summarize how you made it in the report. In the following example, I will use the `shenzhen_buffer` as my AOI."
   ]
  },
  {
   "cell_type": "code",
   "execution_count": 3,
   "metadata": {},
   "outputs": [
    {
     "data": {
      "application/vnd.jupyter.widget-view+json": {
       "model_id": "b9ea65a0679b404f932a697e35bd9896",
       "version_major": 2,
       "version_minor": 0
      },
      "text/plain": [
       "Map(bottom=57372.0, center=[22.634, 114.19], controls=(WidgetControl(options=['position'], widget=HBox(childre…"
      ]
     },
     "metadata": {},
     "output_type": "display_data"
    }
   ],
   "source": [
    "cities = ee.FeatureCollection(\"FAO/GAUL/2015/level2\")\n",
    "#Map.addLayer(cities, {}, 'Cities', False)\n",
    "\n",
    "shenzhen = cities.filter(ee.Filter.eq('ADM2_NAME', 'Shenzhen'))\n",
    "outline = ee.Image().byte().paint(**{\n",
    "  'featureCollection': shenzhen,\n",
    "  'color': 1,\n",
    "  'width': 3\n",
    "})\n",
    "Map.addLayer(outline, {}, 'Shenzhen', False)\n",
    "\n",
    "# Next, add some buffer to include the coastal expansion areas\n",
    "shenzhen_buffer = ee.Geometry(shenzhen.geometry()).buffer(3000)\n",
    "Map.addLayer(shenzhen_buffer, {}, 'Buffer around Shenzhen')\n",
    "#Map.addLayer(rec, \"Original rec bounds\")\n",
    "Map"
   ]
  },
  {
   "cell_type": "markdown",
   "metadata": {},
   "source": [
    "Next, let's load some Landsat images for the Shenzhen area. I've defined here a python function called `display_landsat_collection` to do so. It automatically loads both the [surface reflectance](https://developers.google.com/earth-engine/datasets/catalog/LANDSAT_LC08_C01_T1_SR) and [annual NDVI](https://developers.google.com/earth-engine/datasets/catalog/LANDSAT_LC08_C01_T1_ANNUAL_NDVI) image collections from GEE's data catalog and also calculates the annual means for each band. \n",
    "\n",
    "In order to run such function, you will need to supply a year (any year since 1984) and an AOI. In the following example, I chose year 2019 and the same Shenzhen buffer to demonstrate."
   ]
  },
  {
   "cell_type": "code",
   "execution_count": 24,
   "metadata": {
    "scrolled": false
   },
   "outputs": [
    {
     "data": {
      "application/vnd.jupyter.widget-view+json": {
       "model_id": "b9ea65a0679b404f932a697e35bd9896",
       "version_major": 2,
       "version_minor": 0
      },
      "text/plain": [
       "Map(bottom=114444.0, center=[22.63429269379353, 114.19052124023439], controls=(WidgetControl(options=['positio…"
      ]
     },
     "metadata": {},
     "output_type": "display_data"
    }
   ],
   "source": [
    "# to read in the Landsat data collection(s)\n",
    "\n",
    "def load_landsat_collection(year, aoi, cloud_tolerance = 3.0, DISPLAY_ON_MAP = False):\n",
    "    '''This function allows GEE to display an image collection \n",
    "    that fall within the cloud tolerance, e.g. 3.0%'''\n",
    "    if year >= 2013:\n",
    "        layer_name = 'LC08' # LS8: 2013-now        \n",
    "        fcc_bands = ['B5', 'B4', 'B3']\n",
    "    elif year == 2012: # # LS7: 1999- , however SLT error >= 1999:\n",
    "        layer_name = 'LE07' \n",
    "        fcc_bands = ['B4', 'B3', 'B2']\n",
    "    elif year >=1984:\n",
    "        layer_name = 'LT05' # LS5: 1984-2012\n",
    "        fcc_bands = ['B4', 'B3', 'B2']\n",
    "    else:\n",
    "        print('Please name a year after 1984')\n",
    "        \n",
    "    collection_name_sr = f\"LANDSAT/{layer_name}/C01/T1_SR\" \n",
    "    # You can also use the following line, if interested in incorperating ndvi\n",
    "    collection_name_ndvi = f\"LANDSAT/{layer_name}/C01/T1_ANNUAL_NDVI\" \n",
    "\n",
    "    all_sr_image = ee.ImageCollection(collection_name_sr) \\\n",
    "        .filterBounds(aoi) \\\n",
    "        .filterDate(f'{year}-01-01', f'{year}-12-31') \\\n",
    "        .filter(ee.Filter.lt('CLOUD_COVER', cloud_tolerance))\\\n",
    "        .sort('system:time_start') \\\n",
    "        .select('B[1-7]') \\\n",
    "        .sort('CLOUD_COVER')\n",
    " \n",
    "    # reduce all_sr_image to annual average per pixel\n",
    "    mean_image = all_sr_image.mean()\n",
    "    mean_image = mean_image.clip(aoi).unmask()\n",
    "    # alternatively, we can use the median from geemap lib\n",
    "    median_image = landsat_ts.filterDate(f'{year}-01-01', f'{year}-12-31').first()\n",
    "    median_image = median_image.clip(aoi).unmask()\n",
    "            \n",
    "    ndvi_image = ee.ImageCollection(collection_name_ndvi)\\\n",
    "        .filterBounds(aoi) \\\n",
    "        .filterDate(f'{year}-01-01', f'{year}-12-31')\\\n",
    "        .select('NDVI')\\\n",
    "        .first()\n",
    "    ndvi_image = ndvi_image.clip(aoi).unmask()\n",
    "    \n",
    "    #mean_image.addBands(ndvi_image, 'NDVI')\n",
    "    \n",
    "    if DISPLAY_ON_MAP == True:\n",
    "        \n",
    "        landsat_vis_param = {\n",
    "            'min': 0,\n",
    "            'max': 3000,\n",
    "            'bands': fcc_bands \n",
    "        }\n",
    "        geemap_landsat_vis = {\n",
    "            'min': 0,\n",
    "            'max': 3000,\n",
    "            'bands': ['NIR', 'Red', 'Green']\n",
    "        }\n",
    "        ndvi_colorized_vis = {\n",
    "            'min': 0.0,\n",
    "            'max': 1.0,\n",
    "            'palette': [\n",
    "            'FFFFFF', 'CE7E45', 'DF923D', 'F1B555', 'FCD163', '99B718', '74A901',\n",
    "            '66A000', '529400', '3E8601', '207401', '056201', '004C00', '023B01',\n",
    "            '012E01', '011D01', '011301']\n",
    "        }\n",
    "        \n",
    "        Map.addLayer(ndvi_image, ndvi_colorized_vis, 'NDVI '+str(year),  opacity=0.9)\n",
    "        Map.addLayer(mean_image, landsat_vis_param, \"Mean Ref \"+str(year))\n",
    "        Map.addLayer(median_image, geemap_landsat_vis, \"Median Ref \"+str(year))\n",
    "\n",
    "    return all_sr_image, mean_image, median_image, ndvi_image\n",
    "\n",
    "landsat_ts = geemap.landsat_timeseries(roi=shenzhen_buffer, start_year=1984, end_year=2020, \\\n",
    "                                       start_date='01-01', end_date='12-31')\n",
    "\n",
    "# All you need to modify is the YEAR below:\n",
    "all_image_2019, mean_2019, median_2019, ndvi_2019 = load_landsat_collection(2019,\\\n",
    "                                                    shenzhen_buffer, cloud_tolerance = 3,\\\n",
    "                                                    DISPLAY_ON_MAP = True)\n",
    "Map"
   ]
  },
  {
   "cell_type": "markdown",
   "metadata": {},
   "source": [
    "We can also check the metadata from the Landsat image collection we just loaded from the Cloud. Have a look of the output. Any useful information?"
   ]
  },
  {
   "cell_type": "code",
   "execution_count": 10,
   "metadata": {},
   "outputs": [
    {
     "name": "stdout",
     "output_type": "stream",
     "text": [
      "{'CLOUD_COVER': 0.21, 'CLOUD_COVER_LAND': 0.23, 'EARTH_SUN_DISTANCE': 0.989463, 'ESPA_VERSION': '2_23_0_1b', 'GEOMETRIC_RMSE_MODEL': 7.889, 'GEOMETRIC_RMSE_MODEL_X': 5.66, 'GEOMETRIC_RMSE_MODEL_Y': 5.495, 'IMAGE_DATE': '2019-11-14', 'IMAGE_QUALITY_OLI': 9, 'IMAGE_QUALITY_TIRS': 9, 'LANDSAT_ID': 'LC08_L1TP_122044_20191114_20191202_01_T1', 'LEVEL1_PRODUCTION_DATE': 1575301122000, 'NOMINAL_SCALE': 30, 'PIXEL_QA_VERSION': 'generate_pixel_qa_1.6.0', 'SATELLITE': 'LANDSAT_8', 'SENSING_TIME': '2019-11-14T02:52:28.2228010Z', 'SOLAR_AZIMUTH_ANGLE': 153.700989, 'SOLAR_ZENITH_ANGLE': 45.366386, 'SR_APP_VERSION': 'LaSRC_1.3.0', 'WRS_PATH': 122, 'WRS_ROW': 44, 'system:asset_size': '627.230926 MB', 'system:band_names': ['B1', 'B2', 'B3', 'B4', 'B5', 'B6', 'B7'], 'system:id': 'LANDSAT/LC08/C01/T1_SR/LC08_122044_20191114', 'system:index': 'LC08_122044_20191114', 'system:time_end': '2019-11-14 02:52:28', 'system:time_start': '2019-11-14 02:52:28', 'system:version': 1576236040308713}\n",
      "2019-11-14\n",
      "0.21 %\n"
     ]
    }
   ],
   "source": [
    "first_image = all_image_2019.first() \n",
    "\n",
    "props = geemap.image_props(first_image)\n",
    "print( props.getInfo())\n",
    "print(props.get('IMAGE_DATE').getInfo())\n",
    "print(props.get('CLOUD_COVER').getInfo(), '%')"
   ]
  },
  {
   "cell_type": "markdown",
   "metadata": {},
   "source": [
    "Next, examine the mean vs median surface reflectance layers we've visualise (switching the layers on and off, calculating the differences, etc.) . Which one is better? What should we include into the classification?"
   ]
  },
  {
   "cell_type": "code",
   "execution_count": 11,
   "metadata": {
    "scrolled": false
   },
   "outputs": [
    {
     "data": {
      "application/vnd.jupyter.widget-view+json": {
       "model_id": "b9ea65a0679b404f932a697e35bd9896",
       "version_major": 2,
       "version_minor": 0
      },
      "text/plain": [
       "Map(bottom=114444.0, center=[22.63429269379353, 114.19052124023439], controls=(WidgetControl(options=['positio…"
      ]
     },
     "metadata": {},
     "output_type": "display_data"
    }
   ],
   "source": [
    "NIR = mean_2019.select('B5')\n",
    "Red = mean_2019.select('B4')\n",
    "mean_ndvi = NIR.subtract(Red).divide(NIR.add(Red))\n",
    "\n",
    "NIR = median_2019.select('NIR')\n",
    "Red = median_2019.select('Red')\n",
    "median_ndvi = NIR.subtract(Red).divide(NIR.add(Red))\n",
    "\n",
    "Map.addLayer(mean_ndvi.subtract(median_ndvi), {'min': 0.0,'max': 0.1}, 'Diff in NDVI')\n",
    "Map"
   ]
  },
  {
   "cell_type": "markdown",
   "metadata": {},
   "source": [
    "You may wish to save/export some of the clipped raster image to a TIF file locally. For example:"
   ]
  },
  {
   "cell_type": "code",
   "execution_count": 17,
   "metadata": {},
   "outputs": [
    {
     "name": "stdout",
     "output_type": "stream",
     "text": [
      "Generating URL ...\n",
      "Downloading data from https://earthengine.googleapis.com/v1alpha/projects/earthengine-legacy/thumbnails/dd1fbe919f2d315c75d5779e3fa29a42-760c05182c574a768efbaafb211e58dc:getPixels\n",
      "Please wait ...\n",
      "Data downloaded to /Users/qingling/Documents/UCL/Teaching-2020/GEE/Shenzhen_landsat_2019_median.tif\n"
     ]
    }
   ],
   "source": [
    "geemap.ee_export_image(median_2019, filename='Shenzhen_landsat_2019_median.tif')"
   ]
  },
  {
   "cell_type": "markdown",
   "metadata": {},
   "source": [
    "# Nextly, let's run some unsupervised classification (e.g. K-means) with geemap\n",
    "\n"
   ]
  },
  {
   "cell_type": "markdown",
   "metadata": {},
   "source": [
    "## Unsupervised classification\n",
    "Let's start with the 2019 Median image:"
   ]
  },
  {
   "cell_type": "code",
   "execution_count": 13,
   "metadata": {},
   "outputs": [
    {
     "name": "stdout",
     "output_type": "stream",
     "text": [
      "Generating URL ...\n",
      "Downloading data from https://earthengine.googleapis.com/v1alpha/projects/earthengine-legacy/thumbnails/62703533dbad461db352e12bdd9fc137-f335c5ec3216354eaf44cdbdaa753e7a:getPixels\n",
      "Please wait ...\n",
      "Data downloaded to /Users/qingling/Documents/UCL/Teaching-2020/GEE/Shenzhen_Landsat_Kmeans_2019.tif\n"
     ]
    },
    {
     "data": {
      "application/vnd.jupyter.widget-view+json": {
       "model_id": "b9ea65a0679b404f932a697e35bd9896",
       "version_major": 2,
       "version_minor": 0
      },
      "text/plain": [
       "Map(bottom=114444.0, center=[22.63429269379353, 114.19052124023439], controls=(WidgetControl(options=['positio…"
      ]
     },
     "metadata": {},
     "output_type": "display_data"
    }
   ],
   "source": [
    "def unsupervised_classifier(image, aoi, n_clusters=5, output_filename=''):\n",
    "    '''This function provides a simple K-means classifier,\n",
    "    with a default no. of cluster of 5. User will need to specify \n",
    "    an AOI and an image to be classified'''\n",
    "    \n",
    "    # Make the training dataset:\n",
    "    training_points = image.sample(**{\n",
    "        'region': aoi,\n",
    "        'scale': 30,\n",
    "        'numPixels': 5000,\n",
    "        'seed': 0,\n",
    "        'geometries': True  # Set this to False to ignore geometries\n",
    "    })\n",
    "\n",
    "    #Map.addLayer(training_points, {}, 'training points', False) # No need to visualise this layer\n",
    "\n",
    "    # Instantiate the clusterer and train it.\n",
    "    clusterer = ee.Clusterer.wekaKMeans(n_clusters).train(training_points)\n",
    "\n",
    "    # Cluster the input using the trained clusterer.\n",
    "    class_result = image.cluster(clusterer)\n",
    "\n",
    "    if output_filename == '':\n",
    "        print('No output filename given. Results NOT exported')\n",
    "    else:\n",
    "        #Export the result directly to your computer/Hub:\n",
    "        geemap.ee_export_image(class_result, filename=output_filename)\n",
    "\n",
    "    # # Display the clusters with random colors.\n",
    "    Map.addLayer(class_result.randomVisualizer(), {}, 'clusters', opacity=0.7)\n",
    "    \n",
    "    return class_result\n",
    "\n",
    "\n",
    "class_result = unsupervised_classifier(mean_2019, shenzhen_buffer, \\\n",
    "                n_clusters=5, output_filename='Shenzhen_Landsat_Kmeans_2019.tif')\n",
    "Map"
   ]
  },
  {
   "cell_type": "code",
   "execution_count": 21,
   "metadata": {},
   "outputs": [
    {
     "data": {
      "application/vnd.jupyter.widget-view+json": {
       "model_id": "2aee4c91f3814fdaa3d7665387d01932",
       "version_major": 2,
       "version_minor": 0
      },
      "text/plain": [
       "Map(bottom=114444.0, center=[22.63429269379353, 114.19052124023439], controls=(WidgetControl(options=['positio…"
      ]
     },
     "metadata": {},
     "output_type": "display_data"
    }
   ],
   "source": [
    "# NOT SEEM TO WORK\n",
    "#------------TO SPLIT SAMPLES-------------------------------------\n",
    "\n",
    "bands = ['B1', 'B2', 'B3', 'B4', 'B5', 'B6', 'B7']\n",
    "#bands nned to be adapted to GEEMAP_BANDS if using the MEDIAN: ['NIR', 'Red', etc]\n",
    "\n",
    "# This property of the table stores the land cover labels.\n",
    "label = 'landcover'\n",
    "\n",
    "# Overlay the points on the imagery to get training.\n",
    "sample = mean_2019.select(bands).sampleRegions(**{\n",
    "  'collection': training_points,\n",
    "  'properties': [label],\n",
    "  'scale': 30\n",
    "})\n",
    "\n",
    "# Adds a column of deterministic pseudorandom numbers. \n",
    "sample = sample.randomColumn()\n",
    "\n",
    "split = 0.7\n",
    "\n",
    "training = sample.filter(ee.Filter.lt('random', split))\n",
    "validation = sample.filter(ee.Filter.gte('random', split))\n",
    "print(type(training_points))\n",
    "print(type(training))\n",
    "\n",
    "print(training.first().getInfo())\n",
    "print(validation.first().getInfo())\n",
    "\n",
    "Map.addLayer(training, {}, 'training points', True) \n",
    "Map.addLayer(validation, {}, 'validation points', False) \n",
    "Map"
   ]
  },
  {
   "cell_type": "markdown",
   "metadata": {},
   "source": [
    "## Next, we will need to define or name these unsupervised classes\n",
    "You need to carefully compare the classified results with the original images to decide which cluster belongs to what class. Keep in mind, there might be mis-classified pixels. How can you improve the results?"
   ]
  },
  {
   "cell_type": "code",
   "execution_count": 14,
   "metadata": {},
   "outputs": [],
   "source": [
    "legend_keys = ['Light Clouds', 'Urban', 'Vegetation', 'Water', 'Clouds']\n",
    "legend_colors = ['#FFFFFF', '#FFFFB3', '#8DD3C7', '#80B1D3', '#FFFFFF']\n",
    "\n",
    "# Reclassify the map (only run this line ONCE)\n",
    "#class_result = class_result.remap([0, 1, 2, 3, 4], [1, 2, 3, 4, 5])\n",
    "\n",
    "Map.addLayer(class_result, {'min': 1, 'max': 5, 'palette': legend_colors}, 'Labelled clusters')\n",
    "Map.add_legend(legend_keys=legend_keys, legend_colors=legend_colors, position='bottomright')\n"
   ]
  },
  {
   "cell_type": "code",
   "execution_count": 27,
   "metadata": {},
   "outputs": [
    {
     "name": "stdout",
     "output_type": "stream",
     "text": [
      "Change layer opacity:\n"
     ]
    },
    {
     "data": {
      "application/vnd.jupyter.widget-view+json": {
       "model_id": "8148f70640024448bc8ef66337f86791",
       "version_major": 2,
       "version_minor": 0
      },
      "text/plain": [
       "Box(children=(FloatSlider(value=1.0, description='opacity', max=1.0),))"
      ]
     },
     "metadata": {},
     "output_type": "display_data"
    }
   ],
   "source": [
    "#Visualize the result\n",
    "print('Change layer opacity:')\n",
    "#cluster_layer = Map.layers[-1]\n",
    "cluster_layer = Map.find_layer('Labelled clusters')\n",
    "cluster_layer.interact(opacity=(0, 1, 0.1))"
   ]
  },
  {
   "cell_type": "markdown",
   "metadata": {},
   "source": [
    "# Draw ROIs and Accuracy\n",
    "https://geemap.org/notebooks/33_accuracy_assessment/ "
   ]
  },
  {
   "cell_type": "markdown",
   "metadata": {},
   "source": [
    "Here, we need to use the drawing tools to manually select some ROIs, just like how we did it in ENVI. Clip on the polygon drawing tools on the LHS of the map interface to draw ROIs. Once finished, you can switch the ROI layer on/off from the RHS `layer` tool. The layer by default is named 'Drawn features'. Once you have selected abundant ROIs for one class (e.g. I have just selected three 'Urban' ROIs), we can then access these features as below. Also, saving these features into a shape (.shp) file for future use, e.g. in ENVI or GEE."
   ]
  },
  {
   "cell_type": "code",
   "execution_count": 15,
   "metadata": {
    "scrolled": false
   },
   "outputs": [],
   "source": [
    "def save_roi_drawing(class_name='Unclassified'):\n",
    "    '''This function allows uder to save the ROIs fro current drawing features to SHP and TIF files\n",
    "    to be used later'''\n",
    "    \n",
    "    roi = ee.FeatureCollection(Map.draw_features)\n",
    "    #print(roi.geometry())\n",
    "\n",
    "    #clipped_roi = image.clip(roi) \n",
    "    #Map.addLayer(clipped_roi, vis_params, 'Clipped ROIs')\n",
    "    \n",
    "    # Generate A Classied RASTER LAYER FOR NUMPY USE LATER\n",
    "    clipped_class = class_result.clip(roi)\n",
    "\n",
    "    \n",
    "    filename = f'Shenzhen_TruthROI_{class_name}'\n",
    "    geemap.ee_to_shp(roi, filename=filename+'.shp')\n",
    "    \n",
    "    geemap.ee_export_image(clipped_class, filename=filename+'.tif', region=buffer)"
   ]
  },
  {
   "cell_type": "code",
   "execution_count": 22,
   "metadata": {},
   "outputs": [
    {
     "name": "stdout",
     "output_type": "stream",
     "text": [
      "Generating URL ...\n",
      "Downloading data from https://earthengine.googleapis.com/v1alpha/projects/earthengine-legacy/tables/d877194279459038974f3233e68e1fa7-0975735d25e3b74f206d687c9cde69a1:getFeatures\n",
      "Please wait ...\n",
      "Data downloaded to /Users/qingling/Documents/UCL/Teaching-2020/GEE/Shenzhen_TruthROI_water.shp\n",
      "Generating URL ...\n",
      "Downloading data from https://earthengine.googleapis.com/v1alpha/projects/earthengine-legacy/thumbnails/03a8af94fd0d1c20aab281d3c7b45cf3-59457ef3f84d6648b25d9fee2cf1ac28:getPixels\n",
      "Please wait ...\n",
      "Data downloaded to /Users/qingling/Documents/UCL/Teaching-2020/GEE/Shenzhen_TruthROI_water.tif\n"
     ]
    }
   ],
   "source": [
    "save_roi_drawing(class_name='water')"
   ]
  },
  {
   "cell_type": "code",
   "execution_count": 21,
   "metadata": {},
   "outputs": [
    {
     "name": "stdout",
     "output_type": "stream",
     "text": [
      "ee.FeatureCollection({\n",
      "  \"functionInvocationValue\": {\n",
      "    \"functionName\": \"Collection\",\n",
      "    \"arguments\": {\n",
      "      \"features\": {\n",
      "        \"constantValue\": []\n",
      "      }\n",
      "    }\n",
      "  }\n",
      "})\n"
     ]
    }
   ],
   "source": [
    "'''TBD:  SHP FILE WONT LOAD HERE YET'''\n",
    "\n",
    "def load_shp(filename, class_name, color=\"#0000ff\"):\n",
    "    style = {\n",
    "        \"stroke\": True,\n",
    "        \"color\": color,\n",
    "        \"weight\": 2,\n",
    "        \"opacity\": 1,\n",
    "        \"fill\": True,\n",
    "        \"fillColor\": \"#0000ff\",\n",
    "        \"fillOpacity\": 0.4,\n",
    "    }\n",
    "    \n",
    "    imported_roi = geemap.shp_to_ee(filename)\n",
    "    print(imported_roi)\n",
    "    Map.addLayer(imported_roi, style, class_name+' ROIs')\n",
    "    \n",
    "load_shp('Shenzhen_TruthROI_water.shp', 'Water')"
   ]
  },
  {
   "cell_type": "markdown",
   "metadata": {},
   "source": [
    "# Export results to excel (.csv) files"
   ]
  },
  {
   "cell_type": "code",
   "execution_count": 13,
   "metadata": {
    "scrolled": true
   },
   "outputs": [
    {
     "name": "stdout",
     "output_type": "stream",
     "text": [
      "ee.List({\n",
      "  \"functionInvocationValue\": {\n",
      "    \"functionName\": \"Dictionary.keys\",\n",
      "    \"arguments\": {\n",
      "      \"dictionary\": {\n",
      "        \"functionInvocationValue\": {\n",
      "          \"functionName\": \"Image.reduceRegion\",\n",
      "          \"arguments\": {\n",
      "            \"geometry\": {\n",
      "              \"functionInvocationValue\": {\n",
      "                \"functionName\": \"Geometry.buffer\",\n",
      "                \"arguments\": {\n",
      "                  \"distance\": {\n",
      "                    \"constantValue\": 3000\n",
      "                  },\n",
      "                  \"geometry\": {\n",
      "                    \"functionInvocationValue\": {\n",
      "                      \"functionName\": \"Collection.geometry\",\n",
      "                      \"arguments\": {\n",
      "                        \"collection\": {\n",
      "                          \"functionInvocationValue\": {\n",
      "                            \"functionName\": \"Collection.filter\",\n",
      "                            \"arguments\": {\n",
      "                              \"collection\": {\n",
      "                                \"functionInvocationValue\": {\n",
      "                                  \"functionName\": \"Collection.loadTable\",\n",
      "                                  \"arguments\": {\n",
      "                                    \"tableId\": {\n",
      "                                      \"constantValue\": \"FAO/GAUL/2015/level2\"\n",
      "                                    }\n",
      "                                  }\n",
      "                                }\n",
      "                              },\n",
      "                              \"filter\": {\n",
      "                                \"functionInvocationValue\": {\n",
      "                                  \"functionName\": \"Filter.equals\",\n",
      "                                  \"arguments\": {\n",
      "                                    \"leftField\": {\n",
      "                                      \"constantValue\": \"ADM2_NAME\"\n",
      "                                    },\n",
      "                                    \"rightValue\": {\n",
      "                                      \"constantValue\": \"Shenzhen\"\n",
      "                                    }\n",
      "                                  }\n",
      "                                }\n",
      "                              }\n",
      "                            }\n",
      "                          }\n",
      "                        }\n",
      "                      }\n",
      "                    }\n",
      "                  }\n",
      "                }\n",
      "              }\n",
      "            },\n",
      "            \"image\": {\n",
      "              \"functionInvocationValue\": {\n",
      "                \"functionName\": \"Image.cluster\",\n",
      "                \"arguments\": {\n",
      "                  \"clusterer\": {\n",
      "                    \"functionInvocationValue\": {\n",
      "                      \"functionName\": \"Clusterer.train\",\n",
      "                      \"arguments\": {\n",
      "                        \"clusterer\": {\n",
      "                          \"functionInvocationValue\": {\n",
      "                            \"functionName\": \"Clusterer.wekaKMeans\",\n",
      "                            \"arguments\": {\n",
      "                              \"nClusters\": {\n",
      "                                \"constantValue\": 5\n",
      "                              }\n",
      "                            }\n",
      "                          }\n",
      "                        },\n",
      "                        \"features\": {\n",
      "                          \"functionInvocationValue\": {\n",
      "                            \"functionName\": \"Image.sample\",\n",
      "                            \"arguments\": {\n",
      "                              \"geometries\": {\n",
      "                                \"constantValue\": true\n",
      "                              },\n",
      "                              \"image\": {\n",
      "                                \"functionInvocationValue\": {\n",
      "                                  \"functionName\": \"Image.unmask\",\n",
      "                                  \"arguments\": {\n",
      "                                    \"input\": {\n",
      "                                      \"functionInvocationValue\": {\n",
      "                                        \"functionName\": \"Image.clip\",\n",
      "                                        \"arguments\": {\n",
      "                                          \"geometry\": {\n",
      "                                            \"functionInvocationValue\": {\n",
      "                                              \"functionName\": \"Geometry.buffer\",\n",
      "                                              \"arguments\": {\n",
      "                                                \"distance\": {\n",
      "                                                  \"constantValue\": 3000\n",
      "                                                },\n",
      "                                                \"geometry\": {\n",
      "                                                  \"functionInvocationValue\": {\n",
      "                                                    \"functionName\": \"Collection.geometry\",\n",
      "                                                    \"arguments\": {\n",
      "                                                      \"collection\": {\n",
      "                                                        \"functionInvocationValue\": {\n",
      "                                                          \"functionName\": \"Collection.filter\",\n",
      "                                                          \"arguments\": {\n",
      "                                                            \"collection\": {\n",
      "                                                              \"functionInvocationValue\": {\n",
      "                                                                \"functionName\": \"Collection.loadTable\",\n",
      "                                                                \"arguments\": {\n",
      "                                                                  \"tableId\": {\n",
      "                                                                    \"constantValue\": \"FAO/GAUL/2015/level2\"\n",
      "                                                                  }\n",
      "                                                                }\n",
      "                                                              }\n",
      "                                                            },\n",
      "                                                            \"filter\": {\n",
      "                                                              \"functionInvocationValue\": {\n",
      "                                                                \"functionName\": \"Filter.equals\",\n",
      "                                                                \"arguments\": {\n",
      "                                                                  \"leftField\": {\n",
      "                                                                    \"constantValue\": \"ADM2_NAME\"\n",
      "                                                                  },\n",
      "                                                                  \"rightValue\": {\n",
      "                                                                    \"constantValue\": \"Shenzhen\"\n",
      "                                                                  }\n",
      "                                                                }\n",
      "                                                              }\n",
      "                                                            }\n",
      "                                                          }\n",
      "                                                        }\n",
      "                                                      }\n",
      "                                                    }\n",
      "                                                  }\n",
      "                                                }\n",
      "                                              }\n",
      "                                            }\n",
      "                                          },\n",
      "                                          \"input\": {\n",
      "                                            \"functionInvocationValue\": {\n",
      "                                              \"functionName\": \"Collection.first\",\n",
      "                                              \"arguments\": {\n",
      "                                                \"collection\": {\n",
      "                                                  \"functionInvocationValue\": {\n",
      "                                                    \"functionName\": \"Collection.limit\",\n",
      "                                                    \"arguments\": {\n",
      "                                                      \"collection\": {\n",
      "                                                        \"functionInvocationValue\": {\n",
      "                                                          \"functionName\": \"Collection.map\",\n",
      "                                                          \"arguments\": {\n",
      "                                                            \"baseAlgorithm\": {\n",
      "                                                              \"functionDefinitionValue\": {\n",
      "                                                                \"argumentNames\": [\n",
      "                                                                  \"_MAPPING_VAR_0_0\"\n",
      "                                                                ],\n",
      "                                                                \"body\": {\n",
      "                                                                  \"functionInvocationValue\": {\n",
      "                                                                    \"functionName\": \"Image.select\",\n",
      "                                                                    \"arguments\": {\n",
      "                                                                      \"bandSelectors\": {\n",
      "                                                                        \"constantValue\": [\n",
      "                                                                          \"B[1-7]\"\n",
      "                                                                        ]\n",
      "                                                                      },\n",
      "                                                                      \"input\": {\n",
      "                                                                        \"argumentReference\": \"_MAPPING_VAR_0_0\"\n",
      "                                                                      }\n",
      "                                                                    }\n",
      "                                                                  }\n",
      "                                                                }\n",
      "                                                              }\n",
      "                                                            },\n",
      "                                                            \"collection\": {\n",
      "                                                              \"functionInvocationValue\": {\n",
      "                                                                \"functionName\": \"Collection.limit\",\n",
      "                                                                \"arguments\": {\n",
      "                                                                  \"collection\": {\n",
      "                                                                    \"functionInvocationValue\": {\n",
      "                                                                      \"functionName\": \"Collection.filter\",\n",
      "                                                                      \"arguments\": {\n",
      "                                                                        \"collection\": {\n",
      "                                                                          \"functionInvocationValue\": {\n",
      "                                                                            \"functionName\": \"Collection.filter\",\n",
      "                                                                            \"arguments\": {\n",
      "                                                                              \"collection\": {\n",
      "                                                                                \"functionInvocationValue\": {\n",
      "                                                                                  \"functionName\": \"ImageCollection.load\",\n",
      "                                                                                  \"arguments\": {\n",
      "                                                                                    \"id\": {\n",
      "                                                                                      \"constantValue\": \"LANDSAT/LC08/C01/T1_SR\"\n",
      "                                                                                    }\n",
      "                                                                                  }\n",
      "                                                                                }\n",
      "                                                                              },\n",
      "                                                                              \"filter\": {\n",
      "                                                                                \"functionInvocationValue\": {\n",
      "                                                                                  \"functionName\": \"Filter.intersects\",\n",
      "                                                                                  \"arguments\": {\n",
      "                                                                                    \"leftField\": {\n",
      "                                                                                      \"constantValue\": \".all\"\n",
      "                                                                                    },\n",
      "                                                                                    \"rightValue\": {\n",
      "                                                                                      \"functionInvocationValue\": {\n",
      "                                                                                        \"functionName\": \"Feature\",\n",
      "                                                                                        \"arguments\": {\n",
      "                                                                                          \"geometry\": {\n",
      "                                                                                            \"functionInvocationValue\": {\n",
      "                                                                                              \"functionName\": \"GeometryConstructors.Polygon\",\n",
      "                                                                                              \"arguments\": {\n",
      "                                                                                                \"coordinates\": {\n",
      "                                                                                                  \"constantValue\": [\n",
      "                                                                                                    [\n",
      "                                                                                                      [\n",
      "                                                                                                        113.7659,\n",
      "                                                                                                        22.8536\n",
      "                                                                                                      ],\n",
      "                                                                                                      [\n",
      "                                                                                                        113.7659,\n",
      "                                                                                                        22.4\n",
      "                                                                                                      ],\n",
      "                                                                                                      [\n",
      "                                                                                                        114.6654,\n",
      "                                                                                                        22.4\n",
      "                                                                                                      ],\n",
      "                                                                                                      [\n",
      "                                                                                                        114.6654,\n",
      "                                                                                                        22.8536\n",
      "                                                                                                      ]\n",
      "                                                                                                    ]\n",
      "                                                                                                  ]\n",
      "                                                                                                },\n",
      "                                                                                                \"evenOdd\": {\n",
      "                                                                                                  \"constantValue\": true\n",
      "                                                                                                }\n",
      "                                                                                              }\n",
      "                                                                                            }\n",
      "                                                                                          }\n",
      "                                                                                        }\n",
      "                                                                                      }\n",
      "                                                                                    }\n",
      "                                                                                  }\n",
      "                                                                                }\n",
      "                                                                              }\n",
      "                                                                            }\n",
      "                                                                          }\n",
      "                                                                        },\n",
      "                                                                        \"filter\": {\n",
      "                                                                          \"functionInvocationValue\": {\n",
      "                                                                            \"functionName\": \"Filter.dateRangeContains\",\n",
      "                                                                            \"arguments\": {\n",
      "                                                                              \"leftValue\": {\n",
      "                                                                                \"functionInvocationValue\": {\n",
      "                                                                                  \"functionName\": \"DateRange\",\n",
      "                                                                                  \"arguments\": {\n",
      "                                                                                    \"end\": {\n",
      "                                                                                      \"constantValue\": \"2019-12-31\"\n",
      "                                                                                    },\n",
      "                                                                                    \"start\": {\n",
      "                                                                                      \"constantValue\": \"2019-01-01\"\n",
      "                                                                                    }\n",
      "                                                                                  }\n",
      "                                                                                }\n",
      "                                                                              },\n",
      "                                                                              \"rightField\": {\n",
      "                                                                                \"constantValue\": \"system:time_start\"\n",
      "                                                                              }\n",
      "                                                                            }\n",
      "                                                                          }\n",
      "                                                                        }\n",
      "                                                                      }\n",
      "                                                                    }\n",
      "                                                                  },\n",
      "                                                                  \"key\": {\n",
      "                                                                    \"constantValue\": \"system:time_start\"\n",
      "                                                                  }\n",
      "                                                                }\n",
      "                                                              }\n",
      "                                                            }\n",
      "                                                          }\n",
      "                                                        }\n",
      "                                                      },\n",
      "                                                      \"key\": {\n",
      "                                                        \"constantValue\": \"CLOUD_COVER\"\n",
      "                                                      }\n",
      "                                                    }\n",
      "                                                  }\n",
      "                                                }\n",
      "                                              }\n",
      "                                            }\n",
      "                                          }\n",
      "                                        }\n",
      "                                      }\n",
      "                                    }\n",
      "                                  }\n",
      "                                }\n",
      "                              },\n",
      "                              \"numPixels\": {\n",
      "                                \"constantValue\": 5000\n",
      "                              },\n",
      "                              \"region\": {\n",
      "                                \"functionInvocationValue\": {\n",
      "                                  \"functionName\": \"Geometry.buffer\",\n",
      "                                  \"arguments\": {\n",
      "                                    \"distance\": {\n",
      "                                      \"constantValue\": 3000\n",
      "                                    },\n",
      "                                    \"geometry\": {\n",
      "                                      \"functionInvocationValue\": {\n",
      "                                        \"functionName\": \"Collection.geometry\",\n",
      "                                        \"arguments\": {\n",
      "                                          \"collection\": {\n",
      "                                            \"functionInvocationValue\": {\n",
      "                                              \"functionName\": \"Collection.filter\",\n",
      "                                              \"arguments\": {\n",
      "                                                \"collection\": {\n",
      "                                                  \"functionInvocationValue\": {\n",
      "                                                    \"functionName\": \"Collection.loadTable\",\n",
      "                                                    \"arguments\": {\n",
      "                                                      \"tableId\": {\n",
      "                                                        \"constantValue\": \"FAO/GAUL/2015/level2\"\n",
      "                                                      }\n",
      "                                                    }\n",
      "                                                  }\n",
      "                                                },\n",
      "                                                \"filter\": {\n",
      "                                                  \"functionInvocationValue\": {\n",
      "                                                    \"functionName\": \"Filter.equals\",\n",
      "                                                    \"arguments\": {\n",
      "                                                      \"leftField\": {\n",
      "                                                        \"constantValue\": \"ADM2_NAME\"\n",
      "                                                      },\n",
      "                                                      \"rightValue\": {\n",
      "                                                        \"constantValue\": \"Shenzhen\"\n",
      "                                                      }\n",
      "                                                    }\n",
      "                                                  }\n",
      "                                                }\n",
      "                                              }\n",
      "                                            }\n",
      "                                          }\n",
      "                                        }\n",
      "                                      }\n",
      "                                    }\n",
      "                                  }\n",
      "                                }\n",
      "                              },\n",
      "                              \"scale\": {\n",
      "                                \"constantValue\": 30\n",
      "                              },\n",
      "                              \"seed\": {\n",
      "                                \"constantValue\": 0\n",
      "                              }\n",
      "                            }\n",
      "                          }\n",
      "                        }\n",
      "                      }\n",
      "                    }\n",
      "                  },\n",
      "                  \"image\": {\n",
      "                    \"functionInvocationValue\": {\n",
      "                      \"functionName\": \"Image.unmask\",\n",
      "                      \"arguments\": {\n",
      "                        \"input\": {\n",
      "                          \"functionInvocationValue\": {\n",
      "                            \"functionName\": \"Image.clip\",\n",
      "                            \"arguments\": {\n",
      "                              \"geometry\": {\n",
      "                                \"functionInvocationValue\": {\n",
      "                                  \"functionName\": \"Geometry.buffer\",\n",
      "                                  \"arguments\": {\n",
      "                                    \"distance\": {\n",
      "                                      \"constantValue\": 3000\n",
      "                                    },\n",
      "                                    \"geometry\": {\n",
      "                                      \"functionInvocationValue\": {\n",
      "                                        \"functionName\": \"Collection.geometry\",\n",
      "                                        \"arguments\": {\n",
      "                                          \"collection\": {\n",
      "                                            \"functionInvocationValue\": {\n",
      "                                              \"functionName\": \"Collection.filter\",\n",
      "                                              \"arguments\": {\n",
      "                                                \"collection\": {\n",
      "                                                  \"functionInvocationValue\": {\n",
      "                                                    \"functionName\": \"Collection.loadTable\",\n",
      "                                                    \"arguments\": {\n",
      "                                                      \"tableId\": {\n",
      "                                                        \"constantValue\": \"FAO/GAUL/2015/level2\"\n",
      "                                                      }\n",
      "                                                    }\n",
      "                                                  }\n",
      "                                                },\n",
      "                                                \"filter\": {\n",
      "                                                  \"functionInvocationValue\": {\n",
      "                                                    \"functionName\": \"Filter.equals\",\n",
      "                                                    \"arguments\": {\n",
      "                                                      \"leftField\": {\n",
      "                                                        \"constantValue\": \"ADM2_NAME\"\n",
      "                                                      },\n",
      "                                                      \"rightValue\": {\n",
      "                                                        \"constantValue\": \"Shenzhen\"\n",
      "                                                      }\n",
      "                                                    }\n",
      "                                                  }\n",
      "                                                }\n",
      "                                              }\n",
      "                                            }\n",
      "                                          }\n",
      "                                        }\n",
      "                                      }\n",
      "                                    }\n",
      "                                  }\n",
      "                                }\n",
      "                              },\n",
      "                              \"input\": {\n",
      "                                \"functionInvocationValue\": {\n",
      "                                  \"functionName\": \"Collection.first\",\n",
      "                                  \"arguments\": {\n",
      "                                    \"collection\": {\n",
      "                                      \"functionInvocationValue\": {\n",
      "                                        \"functionName\": \"Collection.limit\",\n",
      "                                        \"arguments\": {\n",
      "                                          \"collection\": {\n",
      "                                            \"functionInvocationValue\": {\n",
      "                                              \"functionName\": \"Collection.map\",\n",
      "                                              \"arguments\": {\n",
      "                                                \"baseAlgorithm\": {\n",
      "                                                  \"functionDefinitionValue\": {\n",
      "                                                    \"argumentNames\": [\n",
      "                                                      \"_MAPPING_VAR_0_0\"\n",
      "                                                    ],\n",
      "                                                    \"body\": {\n",
      "                                                      \"functionInvocationValue\": {\n",
      "                                                        \"functionName\": \"Image.select\",\n",
      "                                                        \"arguments\": {\n",
      "                                                          \"bandSelectors\": {\n",
      "                                                            \"constantValue\": [\n",
      "                                                              \"B[1-7]\"\n",
      "                                                            ]\n",
      "                                                          },\n",
      "                                                          \"input\": {\n",
      "                                                            \"argumentReference\": \"_MAPPING_VAR_0_0\"\n",
      "                                                          }\n",
      "                                                        }\n",
      "                                                      }\n",
      "                                                    }\n",
      "                                                  }\n",
      "                                                },\n",
      "                                                \"collection\": {\n",
      "                                                  \"functionInvocationValue\": {\n",
      "                                                    \"functionName\": \"Collection.limit\",\n",
      "                                                    \"arguments\": {\n",
      "                                                      \"collection\": {\n",
      "                                                        \"functionInvocationValue\": {\n",
      "                                                          \"functionName\": \"Collection.filter\",\n",
      "                                                          \"arguments\": {\n",
      "                                                            \"collection\": {\n",
      "                                                              \"functionInvocationValue\": {\n",
      "                                                                \"functionName\": \"Collection.filter\",\n",
      "                                                                \"arguments\": {\n",
      "                                                                  \"collection\": {\n",
      "                                                                    \"functionInvocationValue\": {\n",
      "                                                                      \"functionName\": \"ImageCollection.load\",\n",
      "                                                                      \"arguments\": {\n",
      "                                                                        \"id\": {\n",
      "                                                                          \"constantValue\": \"LANDSAT/LC08/C01/T1_SR\"\n",
      "                                                                        }\n",
      "                                                                      }\n",
      "                                                                    }\n",
      "                                                                  },\n",
      "                                                                  \"filter\": {\n",
      "                                                                    \"functionInvocationValue\": {\n",
      "                                                                      \"functionName\": \"Filter.intersects\",\n",
      "                                                                      \"arguments\": {\n",
      "                                                                        \"leftField\": {\n",
      "                                                                          \"constantValue\": \".all\"\n",
      "                                                                        },\n",
      "                                                                        \"rightValue\": {\n",
      "                                                                          \"functionInvocationValue\": {\n",
      "                                                                            \"functionName\": \"Feature\",\n",
      "                                                                            \"arguments\": {\n",
      "                                                                              \"geometry\": {\n",
      "                                                                                \"functionInvocationValue\": {\n",
      "                                                                                  \"functionName\": \"GeometryConstructors.Polygon\",\n",
      "                                                                                  \"arguments\": {\n",
      "                                                                                    \"coordinates\": {\n",
      "                                                                                      \"constantValue\": [\n",
      "                                                                                        [\n",
      "                                                                                          [\n",
      "                                                                                            113.7659,\n",
      "                                                                                            22.8536\n",
      "                                                                                          ],\n",
      "                                                                                          [\n",
      "                                                                                            113.7659,\n",
      "                                                                                            22.4\n",
      "                                                                                          ],\n",
      "                                                                                          [\n",
      "                                                                                            114.6654,\n",
      "                                                                                            22.4\n",
      "                                                                                          ],\n",
      "                                                                                          [\n",
      "                                                                                            114.6654,\n",
      "                                                                                            22.8536\n",
      "                                                                                          ]\n",
      "                                                                                        ]\n",
      "                                                                                      ]\n",
      "                                                                                    },\n",
      "                                                                                    \"evenOdd\": {\n",
      "                                                                                      \"constantValue\": true\n",
      "                                                                                    }\n",
      "                                                                                  }\n",
      "                                                                                }\n",
      "                                                                              }\n",
      "                                                                            }\n",
      "                                                                          }\n",
      "                                                                        }\n",
      "                                                                      }\n",
      "                                                                    }\n",
      "                                                                  }\n",
      "                                                                }\n",
      "                                                              }\n",
      "                                                            },\n",
      "                                                            \"filter\": {\n",
      "                                                              \"functionInvocationValue\": {\n",
      "                                                                \"functionName\": \"Filter.dateRangeContains\",\n",
      "                                                                \"arguments\": {\n",
      "                                                                  \"leftValue\": {\n",
      "                                                                    \"functionInvocationValue\": {\n",
      "                                                                      \"functionName\": \"DateRange\",\n",
      "                                                                      \"arguments\": {\n",
      "                                                                        \"end\": {\n",
      "                                                                          \"constantValue\": \"2019-12-31\"\n",
      "                                                                        },\n",
      "                                                                        \"start\": {\n",
      "                                                                          \"constantValue\": \"2019-01-01\"\n",
      "                                                                        }\n",
      "                                                                      }\n",
      "                                                                    }\n",
      "                                                                  },\n",
      "                                                                  \"rightField\": {\n",
      "                                                                    \"constantValue\": \"system:time_start\"\n",
      "                                                                  }\n",
      "                                                                }\n",
      "                                                              }\n",
      "                                                            }\n",
      "                                                          }\n",
      "                                                        }\n",
      "                                                      },\n",
      "                                                      \"key\": {\n",
      "                                                        \"constantValue\": \"system:time_start\"\n",
      "                                                      }\n",
      "                                                    }\n",
      "                                                  }\n",
      "                                                }\n",
      "                                              }\n",
      "                                            }\n",
      "                                          },\n",
      "                                          \"key\": {\n",
      "                                            \"constantValue\": \"CLOUD_COVER\"\n",
      "                                          }\n",
      "                                        }\n",
      "                                      }\n",
      "                                    }\n",
      "                                  }\n",
      "                                }\n",
      "                              }\n",
      "                            }\n",
      "                          }\n",
      "                        }\n",
      "                      }\n",
      "                    }\n",
      "                  }\n",
      "                }\n",
      "              }\n",
      "            },\n",
      "            \"reducer\": {\n",
      "              \"functionInvocationValue\": {\n",
      "                \"functionName\": \"Reducer.count\",\n",
      "                \"arguments\": {}\n",
      "              }\n",
      "            },\n",
      "            \"scale\": {\n",
      "              \"constantValue\": 30\n",
      "            }\n",
      "          }\n",
      "        }\n",
      "      }\n",
      "    }\n",
      "  }\n",
      "})\n"
     ]
    }
   ],
   "source": [
    "import numpy as np\n",
    "import matplotlib.pyplot as plt\n",
    "\n",
    "class_ct = class_result.reduceRegion(**{\n",
    "  'reducer': ee.Reducer.count(),\n",
    "  'geometry': buffer,\n",
    "  'scale': 30\n",
    "})\n",
    "\n",
    "#mean = class_ct.get('to')\n",
    "print(class_ct)\n",
    "\n",
    "#class_ar = class_result.bitsToArrayImage()\n",
    "#class_np = geemap.ee_to_numpy(class_result, bands= ['Urban'], region=rec)\n",
    "\n",
    "#print(class_result)\n",
    "#print(geemap.image_stats(class_result))\n",
    "#props = geemap.image_props(class_result)\n",
    "#print(props)"
   ]
  },
  {
   "cell_type": "code",
   "execution_count": 19,
   "metadata": {
    "scrolled": true
   },
   "outputs": [
    {
     "ename": "AttributeError",
     "evalue": "'ImageCollection' object has no attribute 'bandNames'",
     "output_type": "error",
     "traceback": [
      "\u001b[0;31m---------------------------------------------------------------------------\u001b[0m",
      "\u001b[0;31mAttributeError\u001b[0m                            Traceback (most recent call last)",
      "\u001b[0;32m<ipython-input-19-9f7d3256df98>\u001b[0m in \u001b[0;36m<module>\u001b[0;34m\u001b[0m\n\u001b[1;32m      6\u001b[0m \u001b[0;34m\u001b[0m\u001b[0m\n\u001b[1;32m      7\u001b[0m \u001b[0;31m#mean = class_ct.get('to')\u001b[0m\u001b[0;34m\u001b[0m\u001b[0;34m\u001b[0m\u001b[0;34m\u001b[0m\u001b[0m\n\u001b[0;32m----> 8\u001b[0;31m \u001b[0mprint\u001b[0m\u001b[0;34m(\u001b[0m\u001b[0mee\u001b[0m\u001b[0;34m.\u001b[0m\u001b[0mFeature\u001b[0m\u001b[0;34m(\u001b[0m\u001b[0mimg_mean\u001b[0m\u001b[0;34m)\u001b[0m\u001b[0;34m.\u001b[0m\u001b[0mselect\u001b[0m\u001b[0;34m(\u001b[0m\u001b[0mall_image\u001b[0m\u001b[0;34m.\u001b[0m\u001b[0mbandNames\u001b[0m\u001b[0;34m(\u001b[0m\u001b[0;34m)\u001b[0m\u001b[0;34m)\u001b[0m\u001b[0;34m)\u001b[0m\u001b[0;34m;\u001b[0m\u001b[0;34m\u001b[0m\u001b[0;34m\u001b[0m\u001b[0m\n\u001b[0m\u001b[1;32m      9\u001b[0m \u001b[0;34m\u001b[0m\u001b[0m\n\u001b[1;32m     10\u001b[0m \u001b[0;31m#class_ar = class_result.bitsToArrayImage()\u001b[0m\u001b[0;34m\u001b[0m\u001b[0;34m\u001b[0m\u001b[0;34m\u001b[0m\u001b[0m\n",
      "\u001b[0;31mAttributeError\u001b[0m: 'ImageCollection' object has no attribute 'bandNames'"
     ]
    }
   ],
   "source": [
    "img_mean = image.reduceRegion(**{\n",
    "  'reducer': ee.Reducer.mean(),\n",
    "  'geometry': rec,\n",
    "  'scale': 30\n",
    "})\n",
    "\n",
    "#mean = class_ct.get('to')\n",
    "print(ee.Feature(img_mean).select(all_image.bandNames()));\n",
    "\n",
    "#class_ar = class_result.bitsToArrayImage()\n",
    "#class_np = geemap.ee_to_numpy(class_result, bands= ['Urban'], region=rec)\n",
    "\n",
    "#print(class_result)\n",
    "#print(geemap.image_stats(class_result))\n",
    "#props = geemap.image_props(class_result)\n",
    "#print(props)"
   ]
  },
  {
   "cell_type": "code",
   "execution_count": 25,
   "metadata": {},
   "outputs": [
    {
     "ename": "AttributeError",
     "evalue": "module 'geemap' has no attribute 'ee_to_pandas'",
     "output_type": "error",
     "traceback": [
      "\u001b[0;31m---------------------------------------------------------------------------\u001b[0m",
      "\u001b[0;31mAttributeError\u001b[0m                            Traceback (most recent call last)",
      "\u001b[0;32m<ipython-input-25-d4d5cec1f471>\u001b[0m in \u001b[0;36m<module>\u001b[0;34m\u001b[0m\n\u001b[1;32m      1\u001b[0m \u001b[0;32mimport\u001b[0m \u001b[0mpandas\u001b[0m \u001b[0;32mas\u001b[0m \u001b[0mpd\u001b[0m\u001b[0;34m\u001b[0m\u001b[0;34m\u001b[0m\u001b[0m\n\u001b[1;32m      2\u001b[0m \u001b[0;34m\u001b[0m\u001b[0m\n\u001b[0;32m----> 3\u001b[0;31m \u001b[0mclass_pd\u001b[0m \u001b[0;34m=\u001b[0m \u001b[0mgeemap\u001b[0m\u001b[0;34m.\u001b[0m\u001b[0mee_to_pandas\u001b[0m\u001b[0;34m(\u001b[0m\u001b[0mclass_result\u001b[0m\u001b[0;34m)\u001b[0m\u001b[0;34m\u001b[0m\u001b[0;34m\u001b[0m\u001b[0m\n\u001b[0m",
      "\u001b[0;31mAttributeError\u001b[0m: module 'geemap' has no attribute 'ee_to_pandas'"
     ]
    }
   ],
   "source": [
    "import pandas as pd\n",
    "\n",
    "class_pd = geemap.ee_to_pandas(class_result)"
   ]
  },
  {
   "cell_type": "code",
   "execution_count": 17,
   "metadata": {},
   "outputs": [
    {
     "name": "stdout",
     "output_type": "stream",
     "text": [
      "The input zone data must be an ee.FeatureCollection.\n",
      "ee_object must be an ee.FeatureCollection\n"
     ]
    }
   ],
   "source": [
    "out_dir = os.getcwd() # os.path.join(os.path.expanduser('~'), 'Downloads')\n",
    "out_class_stats = os.path.join(out_dir, 'class_stats.csv')  \n",
    "out_result = os.path.join(out_dir, 'class.csv') \n",
    "\n",
    "if not os.path.exists(out_dir):\n",
    "    os.makedirs(out_dir)\n",
    "\n",
    "# Allowed output formats: csv, shp, json, kml, kmz\n",
    "# Allowed statistics type: MEAN, MAXIMUM, MINIMUM, MEDIAN, STD, MIN_MAX, VARIANCE, SUM\n",
    "geemap.zonal_statistics_by_group(class_result, shenzhen_buffer, out_class_stats, statistics_type='SUM', scale=1000)\n",
    "geemap.ee_to_csv(class_result, out_result)"
   ]
  },
  {
   "cell_type": "markdown",
   "metadata": {},
   "source": [
    "# Repeat for multiple years\n",
    "By now, you should be able to understand that the `load_landsat_collection` function allows us to just vary the year variable (leave AOI and Cloud Tolerance constant) to loop through a time series of data. Similarly, for the `unsupervised_classifier` function, we can vary the input image variable (an output from the `load_landsat_collection` function) in order classify multiple images. So, below is a loop built for running K-means classification for a time series of Landsat for the Shenzhen area. Years between 1987 to 2016 are selected to match our socio-economic data."
   ]
  },
  {
   "cell_type": "code",
   "execution_count": 21,
   "metadata": {},
   "outputs": [
    {
     "name": "stdout",
     "output_type": "stream",
     "text": [
      "Generating URL ...\n",
      "Downloading data from https://earthengine.googleapis.com/v1alpha/projects/earthengine-legacy/thumbnails/a78156584d7b15966b8d770effa98c17-2ad9db46b46066528197f1593a28f356:getPixels\n",
      "Please wait ...\n",
      "Data downloaded to /Users/qingling/Documents/UCL/Teaching-2020/GEE/Shenzhen_Landsat_Kmeans_1987.tif\n",
      "Generating URL ...\n",
      "Downloading data from https://earthengine.googleapis.com/v1alpha/projects/earthengine-legacy/thumbnails/bbe94d0e0871c37715222aad2692b711-a790eca8405c3f5a6aed3ee9e84f97e1:getPixels\n",
      "Please wait ...\n",
      "Data downloaded to /Users/qingling/Documents/UCL/Teaching-2020/GEE/Shenzhen_Landsat_Kmeans_1988.tif\n",
      "Generating URL ...\n",
      "Downloading data from https://earthengine.googleapis.com/v1alpha/projects/earthengine-legacy/thumbnails/49dbb360ce4d176648d74ed73d9ee299-85c7bcceeeb381bcd72331fe8720ef12:getPixels\n",
      "Please wait ...\n",
      "Data downloaded to /Users/qingling/Documents/UCL/Teaching-2020/GEE/Shenzhen_Landsat_Kmeans_1989.tif\n",
      "Generating URL ...\n",
      "Downloading data from https://earthengine.googleapis.com/v1alpha/projects/earthengine-legacy/thumbnails/6f113024b920aed8ebc00d263a194075-6efc29ce169ccf44f8a38d8e36bafba3:getPixels\n",
      "Please wait ...\n",
      "Data downloaded to /Users/qingling/Documents/UCL/Teaching-2020/GEE/Shenzhen_Landsat_Kmeans_1990.tif\n",
      "Generating URL ...\n",
      "Downloading data from https://earthengine.googleapis.com/v1alpha/projects/earthengine-legacy/thumbnails/2cc4b832c0c86014d58bbb7d3c03274b-946e72bd220765f7bdbcf4f62936dcd0:getPixels\n",
      "Please wait ...\n",
      "Data downloaded to /Users/qingling/Documents/UCL/Teaching-2020/GEE/Shenzhen_Landsat_Kmeans_1991.tif\n",
      "Generating URL ...\n",
      "Downloading data from https://earthengine.googleapis.com/v1alpha/projects/earthengine-legacy/thumbnails/6147bf696c2c60bac9873120d2436f4f-d9a3cafa5d3a75d4b488d4b3f8762201:getPixels\n",
      "Please wait ...\n",
      "Data downloaded to /Users/qingling/Documents/UCL/Teaching-2020/GEE/Shenzhen_Landsat_Kmeans_1992.tif\n",
      "Generating URL ...\n",
      "Downloading data from https://earthengine.googleapis.com/v1alpha/projects/earthengine-legacy/thumbnails/611e4b17c7532c829e975edd964c0fad-1bdeb6ba96f74f87e92bb94fd03b81bb:getPixels\n",
      "Please wait ...\n",
      "Data downloaded to /Users/qingling/Documents/UCL/Teaching-2020/GEE/Shenzhen_Landsat_Kmeans_1993.tif\n",
      "Generating URL ...\n",
      "Downloading data from https://earthengine.googleapis.com/v1alpha/projects/earthengine-legacy/thumbnails/452b1e5603a3ad75817da6bba92ccc56-2cfb4bce6c503f26452ff8082f1b50e5:getPixels\n",
      "Please wait ...\n",
      "Data downloaded to /Users/qingling/Documents/UCL/Teaching-2020/GEE/Shenzhen_Landsat_Kmeans_1994.tif\n",
      "Generating URL ...\n",
      "Downloading data from https://earthengine.googleapis.com/v1alpha/projects/earthengine-legacy/thumbnails/05f79d8d47bd8b9d61dc5406761e3bb9-5953a69ac72dfa794cf73274647ca39a:getPixels\n",
      "Please wait ...\n",
      "Data downloaded to /Users/qingling/Documents/UCL/Teaching-2020/GEE/Shenzhen_Landsat_Kmeans_1995.tif\n",
      "Generating URL ...\n",
      "Downloading data from https://earthengine.googleapis.com/v1alpha/projects/earthengine-legacy/thumbnails/e345a43fff9f0b930d53826da65d18b3-97338f82b59a658c5487a9b106af6ffe:getPixels\n",
      "Please wait ...\n",
      "Data downloaded to /Users/qingling/Documents/UCL/Teaching-2020/GEE/Shenzhen_Landsat_Kmeans_1996.tif\n",
      "Generating URL ...\n",
      "Downloading data from https://earthengine.googleapis.com/v1alpha/projects/earthengine-legacy/thumbnails/aeceac3eb56100ff6cdbbeeb2fae9379-b96881836532160c47732304d15e3b36:getPixels\n",
      "Please wait ...\n",
      "Data downloaded to /Users/qingling/Documents/UCL/Teaching-2020/GEE/Shenzhen_Landsat_Kmeans_1997.tif\n",
      "Generating URL ...\n",
      "Downloading data from https://earthengine.googleapis.com/v1alpha/projects/earthengine-legacy/thumbnails/e13af898d0551f0d129b7cd7d59a711e-4b72c858c0e6f7f430640c3166d5530b:getPixels\n",
      "Please wait ...\n",
      "Data downloaded to /Users/qingling/Documents/UCL/Teaching-2020/GEE/Shenzhen_Landsat_Kmeans_1998.tif\n",
      "Generating URL ...\n",
      "Downloading data from https://earthengine.googleapis.com/v1alpha/projects/earthengine-legacy/thumbnails/06fe615f12f9a1d33c940b28c732b866-7893c431cbd67327474028e5774d94bf:getPixels\n",
      "Please wait ...\n",
      "Data downloaded to /Users/qingling/Documents/UCL/Teaching-2020/GEE/Shenzhen_Landsat_Kmeans_1999.tif\n",
      "Generating URL ...\n",
      "Downloading data from https://earthengine.googleapis.com/v1alpha/projects/earthengine-legacy/thumbnails/1f05ef13ddac0c3d252529bf0e36abf4-41be1f8b93dca59e9f973a25c574679e:getPixels\n",
      "Please wait ...\n",
      "Data downloaded to /Users/qingling/Documents/UCL/Teaching-2020/GEE/Shenzhen_Landsat_Kmeans_2000.tif\n",
      "Generating URL ...\n",
      "Downloading data from https://earthengine.googleapis.com/v1alpha/projects/earthengine-legacy/thumbnails/8e624352864fa7560d923efafee93ab1-0de1441f4156345cd40042fdbaa44b5c:getPixels\n",
      "Please wait ...\n",
      "Data downloaded to /Users/qingling/Documents/UCL/Teaching-2020/GEE/Shenzhen_Landsat_Kmeans_2001.tif\n",
      "Generating URL ...\n",
      "Downloading data from https://earthengine.googleapis.com/v1alpha/projects/earthengine-legacy/thumbnails/61ada77a224ccc92601ddbf46f6dd9c1-142e0907330e92b02766a72db96182b2:getPixels\n",
      "Please wait ...\n",
      "Data downloaded to /Users/qingling/Documents/UCL/Teaching-2020/GEE/Shenzhen_Landsat_Kmeans_2002.tif\n"
     ]
    },
    {
     "ename": "KeyboardInterrupt",
     "evalue": "",
     "output_type": "error",
     "traceback": [
      "\u001b[0;31m---------------------------------------------------------------------------\u001b[0m",
      "\u001b[0;31mKeyboardInterrupt\u001b[0m                         Traceback (most recent call last)",
      "\u001b[0;32m<ipython-input-21-95cccb17dac7>\u001b[0m in \u001b[0;36m<module>\u001b[0;34m\u001b[0m\n\u001b[1;32m      1\u001b[0m \u001b[0;32mfor\u001b[0m \u001b[0myear\u001b[0m \u001b[0;32min\u001b[0m \u001b[0mrange\u001b[0m\u001b[0;34m(\u001b[0m\u001b[0;36m1987\u001b[0m\u001b[0;34m,\u001b[0m \u001b[0;36m2017\u001b[0m\u001b[0;34m)\u001b[0m\u001b[0;34m:\u001b[0m\u001b[0;34m\u001b[0m\u001b[0;34m\u001b[0m\u001b[0m\n\u001b[1;32m      2\u001b[0m     all_image, mean_image, median_image, ndvi_image = load_landsat_collection(year,\\\n\u001b[0;32m----> 3\u001b[0;31m                                                     shenzhen_buffer, cloud_tolerance=3)\n\u001b[0m\u001b[1;32m      4\u001b[0m     class_result = unsupervised_classifier(mean_image, shenzhen_buffer, \\\n\u001b[1;32m      5\u001b[0m                 n_clusters=5, output_filename=f'Shenzhen_Landsat_Kmeans_{year}.tif')\n",
      "\u001b[0;32m<ipython-input-9-e45340d8528c>\u001b[0m in \u001b[0;36mload_landsat_collection\u001b[0;34m(year, aoi, cloud_tolerance)\u001b[0m\n\u001b[1;32m     66\u001b[0m \u001b[0;34m\u001b[0m\u001b[0m\n\u001b[1;32m     67\u001b[0m     \u001b[0mMap\u001b[0m\u001b[0;34m.\u001b[0m\u001b[0maddLayer\u001b[0m\u001b[0;34m(\u001b[0m\u001b[0mndvi_image\u001b[0m\u001b[0;34m,\u001b[0m \u001b[0mndvi_colorized_vis\u001b[0m\u001b[0;34m,\u001b[0m \u001b[0;34m'NDVI '\u001b[0m\u001b[0;34m+\u001b[0m\u001b[0mstr\u001b[0m\u001b[0;34m(\u001b[0m\u001b[0myear\u001b[0m\u001b[0;34m)\u001b[0m\u001b[0;34m,\u001b[0m  \u001b[0mopacity\u001b[0m\u001b[0;34m=\u001b[0m\u001b[0;36m0.5\u001b[0m\u001b[0;34m)\u001b[0m\u001b[0;34m\u001b[0m\u001b[0;34m\u001b[0m\u001b[0m\n\u001b[0;32m---> 68\u001b[0;31m     \u001b[0mMap\u001b[0m\u001b[0;34m.\u001b[0m\u001b[0maddLayer\u001b[0m\u001b[0;34m(\u001b[0m\u001b[0mmean_image\u001b[0m\u001b[0;34m,\u001b[0m \u001b[0mlandsat_vis_param\u001b[0m\u001b[0;34m,\u001b[0m \u001b[0;34m\"Mean Ref \"\u001b[0m\u001b[0;34m+\u001b[0m\u001b[0mstr\u001b[0m\u001b[0;34m(\u001b[0m\u001b[0myear\u001b[0m\u001b[0;34m)\u001b[0m\u001b[0;34m)\u001b[0m\u001b[0;34m\u001b[0m\u001b[0;34m\u001b[0m\u001b[0m\n\u001b[0m\u001b[1;32m     69\u001b[0m     \u001b[0mMap\u001b[0m\u001b[0;34m.\u001b[0m\u001b[0maddLayer\u001b[0m\u001b[0;34m(\u001b[0m\u001b[0mmedian_image\u001b[0m\u001b[0;34m,\u001b[0m \u001b[0mgeemap_landsat_vis\u001b[0m\u001b[0;34m,\u001b[0m \u001b[0;34m\"Median Ref \"\u001b[0m\u001b[0;34m+\u001b[0m\u001b[0mstr\u001b[0m\u001b[0;34m(\u001b[0m\u001b[0myear\u001b[0m\u001b[0;34m)\u001b[0m\u001b[0;34m)\u001b[0m\u001b[0;34m\u001b[0m\u001b[0;34m\u001b[0m\u001b[0m\n\u001b[1;32m     70\u001b[0m \u001b[0;34m\u001b[0m\u001b[0m\n",
      "\u001b[0;32m~/opt/anaconda3/envs/gee/lib/python3.7/site-packages/geemap/geemap.py\u001b[0m in \u001b[0;36madd_ee_layer\u001b[0;34m(self, ee_object, vis_params, name, shown, opacity)\u001b[0m\n\u001b[1;32m   1291\u001b[0m             \u001b[0mimage\u001b[0m \u001b[0;34m=\u001b[0m \u001b[0mee_object\u001b[0m\u001b[0;34m.\u001b[0m\u001b[0mmosaic\u001b[0m\u001b[0;34m(\u001b[0m\u001b[0;34m)\u001b[0m\u001b[0;34m\u001b[0m\u001b[0;34m\u001b[0m\u001b[0m\n\u001b[1;32m   1292\u001b[0m \u001b[0;34m\u001b[0m\u001b[0m\n\u001b[0;32m-> 1293\u001b[0;31m         \u001b[0mmap_id_dict\u001b[0m \u001b[0;34m=\u001b[0m \u001b[0mee\u001b[0m\u001b[0;34m.\u001b[0m\u001b[0mImage\u001b[0m\u001b[0;34m(\u001b[0m\u001b[0mimage\u001b[0m\u001b[0;34m)\u001b[0m\u001b[0;34m.\u001b[0m\u001b[0mgetMapId\u001b[0m\u001b[0;34m(\u001b[0m\u001b[0mvis_params\u001b[0m\u001b[0;34m)\u001b[0m\u001b[0;34m\u001b[0m\u001b[0;34m\u001b[0m\u001b[0m\n\u001b[0m\u001b[1;32m   1294\u001b[0m         tile_layer = ipyleaflet.TileLayer(\n\u001b[1;32m   1295\u001b[0m             \u001b[0murl\u001b[0m\u001b[0;34m=\u001b[0m\u001b[0mmap_id_dict\u001b[0m\u001b[0;34m[\u001b[0m\u001b[0;34m\"tile_fetcher\"\u001b[0m\u001b[0;34m]\u001b[0m\u001b[0;34m.\u001b[0m\u001b[0murl_format\u001b[0m\u001b[0;34m,\u001b[0m\u001b[0;34m\u001b[0m\u001b[0;34m\u001b[0m\u001b[0m\n",
      "\u001b[0;32m~/opt/anaconda3/envs/gee/lib/python3.7/site-packages/ee/image.py\u001b[0m in \u001b[0;36mgetMapId\u001b[0;34m(self, vis_params)\u001b[0m\n\u001b[1;32m    129\u001b[0m     \u001b[0mvis_image\u001b[0m\u001b[0;34m,\u001b[0m \u001b[0mrequest\u001b[0m \u001b[0;34m=\u001b[0m \u001b[0mself\u001b[0m\u001b[0;34m.\u001b[0m\u001b[0m_apply_visualization\u001b[0m\u001b[0;34m(\u001b[0m\u001b[0mvis_params\u001b[0m\u001b[0;34m)\u001b[0m\u001b[0;34m\u001b[0m\u001b[0;34m\u001b[0m\u001b[0m\n\u001b[1;32m    130\u001b[0m     \u001b[0mrequest\u001b[0m\u001b[0;34m[\u001b[0m\u001b[0;34m'image'\u001b[0m\u001b[0;34m]\u001b[0m \u001b[0;34m=\u001b[0m \u001b[0mvis_image\u001b[0m\u001b[0;34m\u001b[0m\u001b[0;34m\u001b[0m\u001b[0m\n\u001b[0;32m--> 131\u001b[0;31m     \u001b[0mresponse\u001b[0m \u001b[0;34m=\u001b[0m \u001b[0mdata\u001b[0m\u001b[0;34m.\u001b[0m\u001b[0mgetMapId\u001b[0m\u001b[0;34m(\u001b[0m\u001b[0mrequest\u001b[0m\u001b[0;34m)\u001b[0m\u001b[0;34m\u001b[0m\u001b[0;34m\u001b[0m\u001b[0m\n\u001b[0m\u001b[1;32m    132\u001b[0m     \u001b[0mresponse\u001b[0m\u001b[0;34m[\u001b[0m\u001b[0;34m'image'\u001b[0m\u001b[0;34m]\u001b[0m \u001b[0;34m=\u001b[0m \u001b[0mself\u001b[0m\u001b[0;34m\u001b[0m\u001b[0;34m\u001b[0m\u001b[0m\n\u001b[1;32m    133\u001b[0m     \u001b[0;32mreturn\u001b[0m \u001b[0mresponse\u001b[0m\u001b[0;34m\u001b[0m\u001b[0;34m\u001b[0m\u001b[0m\n",
      "\u001b[0;32m~/opt/anaconda3/envs/gee/lib/python3.7/site-packages/ee/data.py\u001b[0m in \u001b[0;36mgetMapId\u001b[0;34m(params)\u001b[0m\n\u001b[1;32m    595\u001b[0m     result = _execute_cloud_call(\n\u001b[1;32m    596\u001b[0m         _get_cloud_api_resource().projects().maps().create(\n\u001b[0;32m--> 597\u001b[0;31m             parent=_get_projects_path(), fields='name', body=request))\n\u001b[0m\u001b[1;32m    598\u001b[0m     \u001b[0mmap_name\u001b[0m \u001b[0;34m=\u001b[0m \u001b[0mresult\u001b[0m\u001b[0;34m[\u001b[0m\u001b[0;34m'name'\u001b[0m\u001b[0;34m]\u001b[0m\u001b[0;34m\u001b[0m\u001b[0;34m\u001b[0m\u001b[0m\n\u001b[1;32m    599\u001b[0m     url_format = '%s/%s/%s/tiles/{z}/{x}/{y}' % (\n",
      "\u001b[0;32m~/opt/anaconda3/envs/gee/lib/python3.7/site-packages/ee/data.py\u001b[0m in \u001b[0;36m_execute_cloud_call\u001b[0;34m(call, num_retries)\u001b[0m\n\u001b[1;32m    343\u001b[0m   \"\"\"\n\u001b[1;32m    344\u001b[0m   \u001b[0;32mtry\u001b[0m\u001b[0;34m:\u001b[0m\u001b[0;34m\u001b[0m\u001b[0;34m\u001b[0m\u001b[0m\n\u001b[0;32m--> 345\u001b[0;31m     \u001b[0;32mreturn\u001b[0m \u001b[0mcall\u001b[0m\u001b[0;34m.\u001b[0m\u001b[0mexecute\u001b[0m\u001b[0;34m(\u001b[0m\u001b[0mnum_retries\u001b[0m\u001b[0;34m=\u001b[0m\u001b[0mnum_retries\u001b[0m\u001b[0;34m)\u001b[0m\u001b[0;34m\u001b[0m\u001b[0;34m\u001b[0m\u001b[0m\n\u001b[0m\u001b[1;32m    346\u001b[0m   \u001b[0;32mexcept\u001b[0m \u001b[0mgoogleapiclient\u001b[0m\u001b[0;34m.\u001b[0m\u001b[0merrors\u001b[0m\u001b[0;34m.\u001b[0m\u001b[0mHttpError\u001b[0m \u001b[0;32mas\u001b[0m \u001b[0me\u001b[0m\u001b[0;34m:\u001b[0m\u001b[0;34m\u001b[0m\u001b[0;34m\u001b[0m\u001b[0m\n\u001b[1;32m    347\u001b[0m     \u001b[0;32mraise\u001b[0m \u001b[0m_translate_cloud_exception\u001b[0m\u001b[0;34m(\u001b[0m\u001b[0me\u001b[0m\u001b[0;34m)\u001b[0m\u001b[0;34m\u001b[0m\u001b[0;34m\u001b[0m\u001b[0m\n",
      "\u001b[0;32m~/opt/anaconda3/envs/gee/lib/python3.7/site-packages/googleapiclient/_helpers.py\u001b[0m in \u001b[0;36mpositional_wrapper\u001b[0;34m(*args, **kwargs)\u001b[0m\n\u001b[1;32m    132\u001b[0m                 \u001b[0;32melif\u001b[0m \u001b[0mpositional_parameters_enforcement\u001b[0m \u001b[0;34m==\u001b[0m \u001b[0mPOSITIONAL_WARNING\u001b[0m\u001b[0;34m:\u001b[0m\u001b[0;34m\u001b[0m\u001b[0;34m\u001b[0m\u001b[0m\n\u001b[1;32m    133\u001b[0m                     \u001b[0mlogger\u001b[0m\u001b[0;34m.\u001b[0m\u001b[0mwarning\u001b[0m\u001b[0;34m(\u001b[0m\u001b[0mmessage\u001b[0m\u001b[0;34m)\u001b[0m\u001b[0;34m\u001b[0m\u001b[0;34m\u001b[0m\u001b[0m\n\u001b[0;32m--> 134\u001b[0;31m             \u001b[0;32mreturn\u001b[0m \u001b[0mwrapped\u001b[0m\u001b[0;34m(\u001b[0m\u001b[0;34m*\u001b[0m\u001b[0margs\u001b[0m\u001b[0;34m,\u001b[0m \u001b[0;34m**\u001b[0m\u001b[0mkwargs\u001b[0m\u001b[0;34m)\u001b[0m\u001b[0;34m\u001b[0m\u001b[0;34m\u001b[0m\u001b[0m\n\u001b[0m\u001b[1;32m    135\u001b[0m \u001b[0;34m\u001b[0m\u001b[0m\n\u001b[1;32m    136\u001b[0m         \u001b[0;32mreturn\u001b[0m \u001b[0mpositional_wrapper\u001b[0m\u001b[0;34m\u001b[0m\u001b[0;34m\u001b[0m\u001b[0m\n",
      "\u001b[0;32m~/opt/anaconda3/envs/gee/lib/python3.7/site-packages/googleapiclient/http.py\u001b[0m in \u001b[0;36mexecute\u001b[0;34m(self, http, num_retries)\u001b[0m\n\u001b[1;32m    899\u001b[0m             \u001b[0mmethod\u001b[0m\u001b[0;34m=\u001b[0m\u001b[0mstr\u001b[0m\u001b[0;34m(\u001b[0m\u001b[0mself\u001b[0m\u001b[0;34m.\u001b[0m\u001b[0mmethod\u001b[0m\u001b[0;34m)\u001b[0m\u001b[0;34m,\u001b[0m\u001b[0;34m\u001b[0m\u001b[0;34m\u001b[0m\u001b[0m\n\u001b[1;32m    900\u001b[0m             \u001b[0mbody\u001b[0m\u001b[0;34m=\u001b[0m\u001b[0mself\u001b[0m\u001b[0;34m.\u001b[0m\u001b[0mbody\u001b[0m\u001b[0;34m,\u001b[0m\u001b[0;34m\u001b[0m\u001b[0;34m\u001b[0m\u001b[0m\n\u001b[0;32m--> 901\u001b[0;31m             \u001b[0mheaders\u001b[0m\u001b[0;34m=\u001b[0m\u001b[0mself\u001b[0m\u001b[0;34m.\u001b[0m\u001b[0mheaders\u001b[0m\u001b[0;34m,\u001b[0m\u001b[0;34m\u001b[0m\u001b[0;34m\u001b[0m\u001b[0m\n\u001b[0m\u001b[1;32m    902\u001b[0m         )\n\u001b[1;32m    903\u001b[0m \u001b[0;34m\u001b[0m\u001b[0m\n",
      "\u001b[0;32m~/opt/anaconda3/envs/gee/lib/python3.7/site-packages/googleapiclient/http.py\u001b[0m in \u001b[0;36m_retry_request\u001b[0;34m(http, num_retries, req_type, sleep, rand, uri, method, *args, **kwargs)\u001b[0m\n\u001b[1;32m    175\u001b[0m         \u001b[0;32mtry\u001b[0m\u001b[0;34m:\u001b[0m\u001b[0;34m\u001b[0m\u001b[0;34m\u001b[0m\u001b[0m\n\u001b[1;32m    176\u001b[0m             \u001b[0mexception\u001b[0m \u001b[0;34m=\u001b[0m \u001b[0;32mNone\u001b[0m\u001b[0;34m\u001b[0m\u001b[0;34m\u001b[0m\u001b[0m\n\u001b[0;32m--> 177\u001b[0;31m             \u001b[0mresp\u001b[0m\u001b[0;34m,\u001b[0m \u001b[0mcontent\u001b[0m \u001b[0;34m=\u001b[0m \u001b[0mhttp\u001b[0m\u001b[0;34m.\u001b[0m\u001b[0mrequest\u001b[0m\u001b[0;34m(\u001b[0m\u001b[0muri\u001b[0m\u001b[0;34m,\u001b[0m \u001b[0mmethod\u001b[0m\u001b[0;34m,\u001b[0m \u001b[0;34m*\u001b[0m\u001b[0margs\u001b[0m\u001b[0;34m,\u001b[0m \u001b[0;34m**\u001b[0m\u001b[0mkwargs\u001b[0m\u001b[0;34m)\u001b[0m\u001b[0;34m\u001b[0m\u001b[0;34m\u001b[0m\u001b[0m\n\u001b[0m\u001b[1;32m    178\u001b[0m         \u001b[0;31m# Retry on SSL errors and socket timeout errors.\u001b[0m\u001b[0;34m\u001b[0m\u001b[0;34m\u001b[0m\u001b[0;34m\u001b[0m\u001b[0m\n\u001b[1;32m    179\u001b[0m         \u001b[0;32mexcept\u001b[0m \u001b[0m_ssl_SSLError\u001b[0m \u001b[0;32mas\u001b[0m \u001b[0mssl_error\u001b[0m\u001b[0;34m:\u001b[0m\u001b[0;34m\u001b[0m\u001b[0;34m\u001b[0m\u001b[0m\n",
      "\u001b[0;32m~/opt/anaconda3/envs/gee/lib/python3.7/site-packages/google_auth_httplib2.py\u001b[0m in \u001b[0;36mrequest\u001b[0;34m(self, uri, method, body, headers, **kwargs)\u001b[0m\n\u001b[1;32m    196\u001b[0m         \u001b[0;31m# Make the request.\u001b[0m\u001b[0;34m\u001b[0m\u001b[0;34m\u001b[0m\u001b[0;34m\u001b[0m\u001b[0m\n\u001b[1;32m    197\u001b[0m         response, content = self.http.request(\n\u001b[0;32m--> 198\u001b[0;31m             uri, method, body=body, headers=request_headers, **kwargs)\n\u001b[0m\u001b[1;32m    199\u001b[0m \u001b[0;34m\u001b[0m\u001b[0m\n\u001b[1;32m    200\u001b[0m         \u001b[0;31m# If the response indicated that the credentials needed to be\u001b[0m\u001b[0;34m\u001b[0m\u001b[0;34m\u001b[0m\u001b[0;34m\u001b[0m\u001b[0m\n",
      "\u001b[0;32m~/opt/anaconda3/envs/gee/lib/python3.7/site-packages/httplib2/__init__.py\u001b[0m in \u001b[0;36mrequest\u001b[0;34m(self, uri, method, body, headers, redirections, connection_type)\u001b[0m\n\u001b[1;32m   1992\u001b[0m                         \u001b[0mheaders\u001b[0m\u001b[0;34m,\u001b[0m\u001b[0;34m\u001b[0m\u001b[0;34m\u001b[0m\u001b[0m\n\u001b[1;32m   1993\u001b[0m                         \u001b[0mredirections\u001b[0m\u001b[0;34m,\u001b[0m\u001b[0;34m\u001b[0m\u001b[0;34m\u001b[0m\u001b[0m\n\u001b[0;32m-> 1994\u001b[0;31m                         \u001b[0mcachekey\u001b[0m\u001b[0;34m,\u001b[0m\u001b[0;34m\u001b[0m\u001b[0;34m\u001b[0m\u001b[0m\n\u001b[0m\u001b[1;32m   1995\u001b[0m                     )\n\u001b[1;32m   1996\u001b[0m         \u001b[0;32mexcept\u001b[0m \u001b[0mException\u001b[0m \u001b[0;32mas\u001b[0m \u001b[0me\u001b[0m\u001b[0;34m:\u001b[0m\u001b[0;34m\u001b[0m\u001b[0;34m\u001b[0m\u001b[0m\n",
      "\u001b[0;32m~/opt/anaconda3/envs/gee/lib/python3.7/site-packages/httplib2/__init__.py\u001b[0m in \u001b[0;36m_request\u001b[0;34m(self, conn, host, absolute_uri, request_uri, method, body, headers, redirections, cachekey)\u001b[0m\n\u001b[1;32m   1649\u001b[0m \u001b[0;34m\u001b[0m\u001b[0m\n\u001b[1;32m   1650\u001b[0m         (response, content) = self._conn_request(\n\u001b[0;32m-> 1651\u001b[0;31m             \u001b[0mconn\u001b[0m\u001b[0;34m,\u001b[0m \u001b[0mrequest_uri\u001b[0m\u001b[0;34m,\u001b[0m \u001b[0mmethod\u001b[0m\u001b[0;34m,\u001b[0m \u001b[0mbody\u001b[0m\u001b[0;34m,\u001b[0m \u001b[0mheaders\u001b[0m\u001b[0;34m\u001b[0m\u001b[0;34m\u001b[0m\u001b[0m\n\u001b[0m\u001b[1;32m   1652\u001b[0m         )\n\u001b[1;32m   1653\u001b[0m \u001b[0;34m\u001b[0m\u001b[0m\n",
      "\u001b[0;32m~/opt/anaconda3/envs/gee/lib/python3.7/site-packages/httplib2shim/__init__.py\u001b[0m in \u001b[0;36m_conn_request\u001b[0;34m(self, conn, request_uri, method, body, headers)\u001b[0m\n\u001b[1;32m    146\u001b[0m                 \u001b[0mretries\u001b[0m\u001b[0;34m=\u001b[0m\u001b[0murllib3\u001b[0m\u001b[0;34m.\u001b[0m\u001b[0mRetry\u001b[0m\u001b[0;34m(\u001b[0m\u001b[0mtotal\u001b[0m\u001b[0;34m=\u001b[0m\u001b[0;32mFalse\u001b[0m\u001b[0;34m,\u001b[0m \u001b[0mredirect\u001b[0m\u001b[0;34m=\u001b[0m\u001b[0;36m0\u001b[0m\u001b[0;34m)\u001b[0m\u001b[0;34m,\u001b[0m\u001b[0;34m\u001b[0m\u001b[0;34m\u001b[0m\u001b[0m\n\u001b[1;32m    147\u001b[0m                 \u001b[0mtimeout\u001b[0m\u001b[0;34m=\u001b[0m\u001b[0murllib3\u001b[0m\u001b[0;34m.\u001b[0m\u001b[0mTimeout\u001b[0m\u001b[0;34m(\u001b[0m\u001b[0mtotal\u001b[0m\u001b[0;34m=\u001b[0m\u001b[0mself\u001b[0m\u001b[0;34m.\u001b[0m\u001b[0mtimeout\u001b[0m\u001b[0;34m)\u001b[0m\u001b[0;34m,\u001b[0m\u001b[0;34m\u001b[0m\u001b[0;34m\u001b[0m\u001b[0m\n\u001b[0;32m--> 148\u001b[0;31m                 decode_content=decode)\n\u001b[0m\u001b[1;32m    149\u001b[0m \u001b[0;34m\u001b[0m\u001b[0m\n\u001b[1;32m    150\u001b[0m             \u001b[0mresponse\u001b[0m \u001b[0;34m=\u001b[0m \u001b[0m_map_response\u001b[0m\u001b[0;34m(\u001b[0m\u001b[0murllib3_response\u001b[0m\u001b[0;34m,\u001b[0m \u001b[0mdecode\u001b[0m\u001b[0;34m=\u001b[0m\u001b[0mdecode\u001b[0m\u001b[0;34m)\u001b[0m\u001b[0;34m\u001b[0m\u001b[0;34m\u001b[0m\u001b[0m\n",
      "\u001b[0;32m~/opt/anaconda3/envs/gee/lib/python3.7/site-packages/urllib3/request.py\u001b[0m in \u001b[0;36mrequest\u001b[0;34m(self, method, url, fields, headers, **urlopen_kw)\u001b[0m\n\u001b[1;32m     78\u001b[0m         \u001b[0;32melse\u001b[0m\u001b[0;34m:\u001b[0m\u001b[0;34m\u001b[0m\u001b[0;34m\u001b[0m\u001b[0m\n\u001b[1;32m     79\u001b[0m             return self.request_encode_body(\n\u001b[0;32m---> 80\u001b[0;31m                 \u001b[0mmethod\u001b[0m\u001b[0;34m,\u001b[0m \u001b[0murl\u001b[0m\u001b[0;34m,\u001b[0m \u001b[0mfields\u001b[0m\u001b[0;34m=\u001b[0m\u001b[0mfields\u001b[0m\u001b[0;34m,\u001b[0m \u001b[0mheaders\u001b[0m\u001b[0;34m=\u001b[0m\u001b[0mheaders\u001b[0m\u001b[0;34m,\u001b[0m \u001b[0;34m**\u001b[0m\u001b[0murlopen_kw\u001b[0m\u001b[0;34m\u001b[0m\u001b[0;34m\u001b[0m\u001b[0m\n\u001b[0m\u001b[1;32m     81\u001b[0m             )\n\u001b[1;32m     82\u001b[0m \u001b[0;34m\u001b[0m\u001b[0m\n",
      "\u001b[0;32m~/opt/anaconda3/envs/gee/lib/python3.7/site-packages/urllib3/request.py\u001b[0m in \u001b[0;36mrequest_encode_body\u001b[0;34m(self, method, url, fields, headers, encode_multipart, multipart_boundary, **urlopen_kw)\u001b[0m\n\u001b[1;32m    169\u001b[0m         \u001b[0mextra_kw\u001b[0m\u001b[0;34m.\u001b[0m\u001b[0mupdate\u001b[0m\u001b[0;34m(\u001b[0m\u001b[0murlopen_kw\u001b[0m\u001b[0;34m)\u001b[0m\u001b[0;34m\u001b[0m\u001b[0;34m\u001b[0m\u001b[0m\n\u001b[1;32m    170\u001b[0m \u001b[0;34m\u001b[0m\u001b[0m\n\u001b[0;32m--> 171\u001b[0;31m         \u001b[0;32mreturn\u001b[0m \u001b[0mself\u001b[0m\u001b[0;34m.\u001b[0m\u001b[0murlopen\u001b[0m\u001b[0;34m(\u001b[0m\u001b[0mmethod\u001b[0m\u001b[0;34m,\u001b[0m \u001b[0murl\u001b[0m\u001b[0;34m,\u001b[0m \u001b[0;34m**\u001b[0m\u001b[0mextra_kw\u001b[0m\u001b[0;34m)\u001b[0m\u001b[0;34m\u001b[0m\u001b[0;34m\u001b[0m\u001b[0m\n\u001b[0m",
      "\u001b[0;32m~/opt/anaconda3/envs/gee/lib/python3.7/site-packages/urllib3/poolmanager.py\u001b[0m in \u001b[0;36murlopen\u001b[0;34m(self, method, url, redirect, **kw)\u001b[0m\n\u001b[1;32m    334\u001b[0m             \u001b[0mresponse\u001b[0m \u001b[0;34m=\u001b[0m \u001b[0mconn\u001b[0m\u001b[0;34m.\u001b[0m\u001b[0murlopen\u001b[0m\u001b[0;34m(\u001b[0m\u001b[0mmethod\u001b[0m\u001b[0;34m,\u001b[0m \u001b[0murl\u001b[0m\u001b[0;34m,\u001b[0m \u001b[0;34m**\u001b[0m\u001b[0mkw\u001b[0m\u001b[0;34m)\u001b[0m\u001b[0;34m\u001b[0m\u001b[0;34m\u001b[0m\u001b[0m\n\u001b[1;32m    335\u001b[0m         \u001b[0;32melse\u001b[0m\u001b[0;34m:\u001b[0m\u001b[0;34m\u001b[0m\u001b[0;34m\u001b[0m\u001b[0m\n\u001b[0;32m--> 336\u001b[0;31m             \u001b[0mresponse\u001b[0m \u001b[0;34m=\u001b[0m \u001b[0mconn\u001b[0m\u001b[0;34m.\u001b[0m\u001b[0murlopen\u001b[0m\u001b[0;34m(\u001b[0m\u001b[0mmethod\u001b[0m\u001b[0;34m,\u001b[0m \u001b[0mu\u001b[0m\u001b[0;34m.\u001b[0m\u001b[0mrequest_uri\u001b[0m\u001b[0;34m,\u001b[0m \u001b[0;34m**\u001b[0m\u001b[0mkw\u001b[0m\u001b[0;34m)\u001b[0m\u001b[0;34m\u001b[0m\u001b[0;34m\u001b[0m\u001b[0m\n\u001b[0m\u001b[1;32m    337\u001b[0m \u001b[0;34m\u001b[0m\u001b[0m\n\u001b[1;32m    338\u001b[0m         \u001b[0mredirect_location\u001b[0m \u001b[0;34m=\u001b[0m \u001b[0mredirect\u001b[0m \u001b[0;32mand\u001b[0m \u001b[0mresponse\u001b[0m\u001b[0;34m.\u001b[0m\u001b[0mget_redirect_location\u001b[0m\u001b[0;34m(\u001b[0m\u001b[0;34m)\u001b[0m\u001b[0;34m\u001b[0m\u001b[0;34m\u001b[0m\u001b[0m\n",
      "\u001b[0;32m~/opt/anaconda3/envs/gee/lib/python3.7/site-packages/urllib3/connectionpool.py\u001b[0m in \u001b[0;36murlopen\u001b[0;34m(self, method, url, body, headers, retries, redirect, assert_same_host, timeout, pool_timeout, release_conn, chunked, body_pos, **response_kw)\u001b[0m\n\u001b[1;32m    675\u001b[0m                 \u001b[0mbody\u001b[0m\u001b[0;34m=\u001b[0m\u001b[0mbody\u001b[0m\u001b[0;34m,\u001b[0m\u001b[0;34m\u001b[0m\u001b[0;34m\u001b[0m\u001b[0m\n\u001b[1;32m    676\u001b[0m                 \u001b[0mheaders\u001b[0m\u001b[0;34m=\u001b[0m\u001b[0mheaders\u001b[0m\u001b[0;34m,\u001b[0m\u001b[0;34m\u001b[0m\u001b[0;34m\u001b[0m\u001b[0m\n\u001b[0;32m--> 677\u001b[0;31m                 \u001b[0mchunked\u001b[0m\u001b[0;34m=\u001b[0m\u001b[0mchunked\u001b[0m\u001b[0;34m,\u001b[0m\u001b[0;34m\u001b[0m\u001b[0;34m\u001b[0m\u001b[0m\n\u001b[0m\u001b[1;32m    678\u001b[0m             )\n\u001b[1;32m    679\u001b[0m \u001b[0;34m\u001b[0m\u001b[0m\n",
      "\u001b[0;32m~/opt/anaconda3/envs/gee/lib/python3.7/site-packages/urllib3/connectionpool.py\u001b[0m in \u001b[0;36m_make_request\u001b[0;34m(self, conn, method, url, timeout, chunked, **httplib_request_kw)\u001b[0m\n\u001b[1;32m    424\u001b[0m                     \u001b[0;31m# Python 3 (including for exceptions like SystemExit).\u001b[0m\u001b[0;34m\u001b[0m\u001b[0;34m\u001b[0m\u001b[0;34m\u001b[0m\u001b[0m\n\u001b[1;32m    425\u001b[0m                     \u001b[0;31m# Otherwise it looks like a bug in the code.\u001b[0m\u001b[0;34m\u001b[0m\u001b[0;34m\u001b[0m\u001b[0;34m\u001b[0m\u001b[0m\n\u001b[0;32m--> 426\u001b[0;31m                     \u001b[0msix\u001b[0m\u001b[0;34m.\u001b[0m\u001b[0mraise_from\u001b[0m\u001b[0;34m(\u001b[0m\u001b[0me\u001b[0m\u001b[0;34m,\u001b[0m \u001b[0;32mNone\u001b[0m\u001b[0;34m)\u001b[0m\u001b[0;34m\u001b[0m\u001b[0;34m\u001b[0m\u001b[0m\n\u001b[0m\u001b[1;32m    427\u001b[0m         \u001b[0;32mexcept\u001b[0m \u001b[0;34m(\u001b[0m\u001b[0mSocketTimeout\u001b[0m\u001b[0;34m,\u001b[0m \u001b[0mBaseSSLError\u001b[0m\u001b[0;34m,\u001b[0m \u001b[0mSocketError\u001b[0m\u001b[0;34m)\u001b[0m \u001b[0;32mas\u001b[0m \u001b[0me\u001b[0m\u001b[0;34m:\u001b[0m\u001b[0;34m\u001b[0m\u001b[0;34m\u001b[0m\u001b[0m\n\u001b[1;32m    428\u001b[0m             \u001b[0mself\u001b[0m\u001b[0;34m.\u001b[0m\u001b[0m_raise_timeout\u001b[0m\u001b[0;34m(\u001b[0m\u001b[0merr\u001b[0m\u001b[0;34m=\u001b[0m\u001b[0me\u001b[0m\u001b[0;34m,\u001b[0m \u001b[0murl\u001b[0m\u001b[0;34m=\u001b[0m\u001b[0murl\u001b[0m\u001b[0;34m,\u001b[0m \u001b[0mtimeout_value\u001b[0m\u001b[0;34m=\u001b[0m\u001b[0mread_timeout\u001b[0m\u001b[0;34m)\u001b[0m\u001b[0;34m\u001b[0m\u001b[0;34m\u001b[0m\u001b[0m\n",
      "\u001b[0;32m~/opt/anaconda3/envs/gee/lib/python3.7/site-packages/urllib3/packages/six.py\u001b[0m in \u001b[0;36mraise_from\u001b[0;34m(value, from_value)\u001b[0m\n",
      "\u001b[0;32m~/opt/anaconda3/envs/gee/lib/python3.7/site-packages/urllib3/connectionpool.py\u001b[0m in \u001b[0;36m_make_request\u001b[0;34m(self, conn, method, url, timeout, chunked, **httplib_request_kw)\u001b[0m\n\u001b[1;32m    419\u001b[0m                 \u001b[0;31m# Python 3\u001b[0m\u001b[0;34m\u001b[0m\u001b[0;34m\u001b[0m\u001b[0;34m\u001b[0m\u001b[0m\n\u001b[1;32m    420\u001b[0m                 \u001b[0;32mtry\u001b[0m\u001b[0;34m:\u001b[0m\u001b[0;34m\u001b[0m\u001b[0;34m\u001b[0m\u001b[0m\n\u001b[0;32m--> 421\u001b[0;31m                     \u001b[0mhttplib_response\u001b[0m \u001b[0;34m=\u001b[0m \u001b[0mconn\u001b[0m\u001b[0;34m.\u001b[0m\u001b[0mgetresponse\u001b[0m\u001b[0;34m(\u001b[0m\u001b[0;34m)\u001b[0m\u001b[0;34m\u001b[0m\u001b[0;34m\u001b[0m\u001b[0m\n\u001b[0m\u001b[1;32m    422\u001b[0m                 \u001b[0;32mexcept\u001b[0m \u001b[0mBaseException\u001b[0m \u001b[0;32mas\u001b[0m \u001b[0me\u001b[0m\u001b[0;34m:\u001b[0m\u001b[0;34m\u001b[0m\u001b[0;34m\u001b[0m\u001b[0m\n\u001b[1;32m    423\u001b[0m                     \u001b[0;31m# Remove the TypeError from the exception chain in\u001b[0m\u001b[0;34m\u001b[0m\u001b[0;34m\u001b[0m\u001b[0;34m\u001b[0m\u001b[0m\n",
      "\u001b[0;32m~/opt/anaconda3/envs/gee/lib/python3.7/http/client.py\u001b[0m in \u001b[0;36mgetresponse\u001b[0;34m(self)\u001b[0m\n\u001b[1;32m   1367\u001b[0m         \u001b[0;32mtry\u001b[0m\u001b[0;34m:\u001b[0m\u001b[0;34m\u001b[0m\u001b[0;34m\u001b[0m\u001b[0m\n\u001b[1;32m   1368\u001b[0m             \u001b[0;32mtry\u001b[0m\u001b[0;34m:\u001b[0m\u001b[0;34m\u001b[0m\u001b[0;34m\u001b[0m\u001b[0m\n\u001b[0;32m-> 1369\u001b[0;31m                 \u001b[0mresponse\u001b[0m\u001b[0;34m.\u001b[0m\u001b[0mbegin\u001b[0m\u001b[0;34m(\u001b[0m\u001b[0;34m)\u001b[0m\u001b[0;34m\u001b[0m\u001b[0;34m\u001b[0m\u001b[0m\n\u001b[0m\u001b[1;32m   1370\u001b[0m             \u001b[0;32mexcept\u001b[0m \u001b[0mConnectionError\u001b[0m\u001b[0;34m:\u001b[0m\u001b[0;34m\u001b[0m\u001b[0;34m\u001b[0m\u001b[0m\n\u001b[1;32m   1371\u001b[0m                 \u001b[0mself\u001b[0m\u001b[0;34m.\u001b[0m\u001b[0mclose\u001b[0m\u001b[0;34m(\u001b[0m\u001b[0;34m)\u001b[0m\u001b[0;34m\u001b[0m\u001b[0;34m\u001b[0m\u001b[0m\n",
      "\u001b[0;32m~/opt/anaconda3/envs/gee/lib/python3.7/http/client.py\u001b[0m in \u001b[0;36mbegin\u001b[0;34m(self)\u001b[0m\n\u001b[1;32m    308\u001b[0m         \u001b[0;31m# read until we get a non-100 response\u001b[0m\u001b[0;34m\u001b[0m\u001b[0;34m\u001b[0m\u001b[0;34m\u001b[0m\u001b[0m\n\u001b[1;32m    309\u001b[0m         \u001b[0;32mwhile\u001b[0m \u001b[0;32mTrue\u001b[0m\u001b[0;34m:\u001b[0m\u001b[0;34m\u001b[0m\u001b[0;34m\u001b[0m\u001b[0m\n\u001b[0;32m--> 310\u001b[0;31m             \u001b[0mversion\u001b[0m\u001b[0;34m,\u001b[0m \u001b[0mstatus\u001b[0m\u001b[0;34m,\u001b[0m \u001b[0mreason\u001b[0m \u001b[0;34m=\u001b[0m \u001b[0mself\u001b[0m\u001b[0;34m.\u001b[0m\u001b[0m_read_status\u001b[0m\u001b[0;34m(\u001b[0m\u001b[0;34m)\u001b[0m\u001b[0;34m\u001b[0m\u001b[0;34m\u001b[0m\u001b[0m\n\u001b[0m\u001b[1;32m    311\u001b[0m             \u001b[0;32mif\u001b[0m \u001b[0mstatus\u001b[0m \u001b[0;34m!=\u001b[0m \u001b[0mCONTINUE\u001b[0m\u001b[0;34m:\u001b[0m\u001b[0;34m\u001b[0m\u001b[0;34m\u001b[0m\u001b[0m\n\u001b[1;32m    312\u001b[0m                 \u001b[0;32mbreak\u001b[0m\u001b[0;34m\u001b[0m\u001b[0;34m\u001b[0m\u001b[0m\n",
      "\u001b[0;32m~/opt/anaconda3/envs/gee/lib/python3.7/http/client.py\u001b[0m in \u001b[0;36m_read_status\u001b[0;34m(self)\u001b[0m\n\u001b[1;32m    269\u001b[0m \u001b[0;34m\u001b[0m\u001b[0m\n\u001b[1;32m    270\u001b[0m     \u001b[0;32mdef\u001b[0m \u001b[0m_read_status\u001b[0m\u001b[0;34m(\u001b[0m\u001b[0mself\u001b[0m\u001b[0;34m)\u001b[0m\u001b[0;34m:\u001b[0m\u001b[0;34m\u001b[0m\u001b[0;34m\u001b[0m\u001b[0m\n\u001b[0;32m--> 271\u001b[0;31m         \u001b[0mline\u001b[0m \u001b[0;34m=\u001b[0m \u001b[0mstr\u001b[0m\u001b[0;34m(\u001b[0m\u001b[0mself\u001b[0m\u001b[0;34m.\u001b[0m\u001b[0mfp\u001b[0m\u001b[0;34m.\u001b[0m\u001b[0mreadline\u001b[0m\u001b[0;34m(\u001b[0m\u001b[0m_MAXLINE\u001b[0m \u001b[0;34m+\u001b[0m \u001b[0;36m1\u001b[0m\u001b[0;34m)\u001b[0m\u001b[0;34m,\u001b[0m \u001b[0;34m\"iso-8859-1\"\u001b[0m\u001b[0;34m)\u001b[0m\u001b[0;34m\u001b[0m\u001b[0;34m\u001b[0m\u001b[0m\n\u001b[0m\u001b[1;32m    272\u001b[0m         \u001b[0;32mif\u001b[0m \u001b[0mlen\u001b[0m\u001b[0;34m(\u001b[0m\u001b[0mline\u001b[0m\u001b[0;34m)\u001b[0m \u001b[0;34m>\u001b[0m \u001b[0m_MAXLINE\u001b[0m\u001b[0;34m:\u001b[0m\u001b[0;34m\u001b[0m\u001b[0;34m\u001b[0m\u001b[0m\n\u001b[1;32m    273\u001b[0m             \u001b[0;32mraise\u001b[0m \u001b[0mLineTooLong\u001b[0m\u001b[0;34m(\u001b[0m\u001b[0;34m\"status line\"\u001b[0m\u001b[0;34m)\u001b[0m\u001b[0;34m\u001b[0m\u001b[0;34m\u001b[0m\u001b[0m\n",
      "\u001b[0;32m~/opt/anaconda3/envs/gee/lib/python3.7/socket.py\u001b[0m in \u001b[0;36mreadinto\u001b[0;34m(self, b)\u001b[0m\n\u001b[1;32m    587\u001b[0m         \u001b[0;32mwhile\u001b[0m \u001b[0;32mTrue\u001b[0m\u001b[0;34m:\u001b[0m\u001b[0;34m\u001b[0m\u001b[0;34m\u001b[0m\u001b[0m\n\u001b[1;32m    588\u001b[0m             \u001b[0;32mtry\u001b[0m\u001b[0;34m:\u001b[0m\u001b[0;34m\u001b[0m\u001b[0;34m\u001b[0m\u001b[0m\n\u001b[0;32m--> 589\u001b[0;31m                 \u001b[0;32mreturn\u001b[0m \u001b[0mself\u001b[0m\u001b[0;34m.\u001b[0m\u001b[0m_sock\u001b[0m\u001b[0;34m.\u001b[0m\u001b[0mrecv_into\u001b[0m\u001b[0;34m(\u001b[0m\u001b[0mb\u001b[0m\u001b[0;34m)\u001b[0m\u001b[0;34m\u001b[0m\u001b[0;34m\u001b[0m\u001b[0m\n\u001b[0m\u001b[1;32m    590\u001b[0m             \u001b[0;32mexcept\u001b[0m \u001b[0mtimeout\u001b[0m\u001b[0;34m:\u001b[0m\u001b[0;34m\u001b[0m\u001b[0;34m\u001b[0m\u001b[0m\n\u001b[1;32m    591\u001b[0m                 \u001b[0mself\u001b[0m\u001b[0;34m.\u001b[0m\u001b[0m_timeout_occurred\u001b[0m \u001b[0;34m=\u001b[0m \u001b[0;32mTrue\u001b[0m\u001b[0;34m\u001b[0m\u001b[0;34m\u001b[0m\u001b[0m\n",
      "\u001b[0;32m~/opt/anaconda3/envs/gee/lib/python3.7/ssl.py\u001b[0m in \u001b[0;36mrecv_into\u001b[0;34m(self, buffer, nbytes, flags)\u001b[0m\n\u001b[1;32m   1069\u001b[0m                   \u001b[0;34m\"non-zero flags not allowed in calls to recv_into() on %s\"\u001b[0m \u001b[0;34m%\u001b[0m\u001b[0;34m\u001b[0m\u001b[0;34m\u001b[0m\u001b[0m\n\u001b[1;32m   1070\u001b[0m                   self.__class__)\n\u001b[0;32m-> 1071\u001b[0;31m             \u001b[0;32mreturn\u001b[0m \u001b[0mself\u001b[0m\u001b[0;34m.\u001b[0m\u001b[0mread\u001b[0m\u001b[0;34m(\u001b[0m\u001b[0mnbytes\u001b[0m\u001b[0;34m,\u001b[0m \u001b[0mbuffer\u001b[0m\u001b[0;34m)\u001b[0m\u001b[0;34m\u001b[0m\u001b[0;34m\u001b[0m\u001b[0m\n\u001b[0m\u001b[1;32m   1072\u001b[0m         \u001b[0;32melse\u001b[0m\u001b[0;34m:\u001b[0m\u001b[0;34m\u001b[0m\u001b[0;34m\u001b[0m\u001b[0m\n\u001b[1;32m   1073\u001b[0m             \u001b[0;32mreturn\u001b[0m \u001b[0msuper\u001b[0m\u001b[0;34m(\u001b[0m\u001b[0;34m)\u001b[0m\u001b[0;34m.\u001b[0m\u001b[0mrecv_into\u001b[0m\u001b[0;34m(\u001b[0m\u001b[0mbuffer\u001b[0m\u001b[0;34m,\u001b[0m \u001b[0mnbytes\u001b[0m\u001b[0;34m,\u001b[0m \u001b[0mflags\u001b[0m\u001b[0;34m)\u001b[0m\u001b[0;34m\u001b[0m\u001b[0;34m\u001b[0m\u001b[0m\n",
      "\u001b[0;32m~/opt/anaconda3/envs/gee/lib/python3.7/ssl.py\u001b[0m in \u001b[0;36mread\u001b[0;34m(self, len, buffer)\u001b[0m\n\u001b[1;32m    927\u001b[0m         \u001b[0;32mtry\u001b[0m\u001b[0;34m:\u001b[0m\u001b[0;34m\u001b[0m\u001b[0;34m\u001b[0m\u001b[0m\n\u001b[1;32m    928\u001b[0m             \u001b[0;32mif\u001b[0m \u001b[0mbuffer\u001b[0m \u001b[0;32mis\u001b[0m \u001b[0;32mnot\u001b[0m \u001b[0;32mNone\u001b[0m\u001b[0;34m:\u001b[0m\u001b[0;34m\u001b[0m\u001b[0;34m\u001b[0m\u001b[0m\n\u001b[0;32m--> 929\u001b[0;31m                 \u001b[0;32mreturn\u001b[0m \u001b[0mself\u001b[0m\u001b[0;34m.\u001b[0m\u001b[0m_sslobj\u001b[0m\u001b[0;34m.\u001b[0m\u001b[0mread\u001b[0m\u001b[0;34m(\u001b[0m\u001b[0mlen\u001b[0m\u001b[0;34m,\u001b[0m \u001b[0mbuffer\u001b[0m\u001b[0;34m)\u001b[0m\u001b[0;34m\u001b[0m\u001b[0;34m\u001b[0m\u001b[0m\n\u001b[0m\u001b[1;32m    930\u001b[0m             \u001b[0;32melse\u001b[0m\u001b[0;34m:\u001b[0m\u001b[0;34m\u001b[0m\u001b[0;34m\u001b[0m\u001b[0m\n\u001b[1;32m    931\u001b[0m                 \u001b[0;32mreturn\u001b[0m \u001b[0mself\u001b[0m\u001b[0;34m.\u001b[0m\u001b[0m_sslobj\u001b[0m\u001b[0;34m.\u001b[0m\u001b[0mread\u001b[0m\u001b[0;34m(\u001b[0m\u001b[0mlen\u001b[0m\u001b[0;34m)\u001b[0m\u001b[0;34m\u001b[0m\u001b[0;34m\u001b[0m\u001b[0m\n",
      "\u001b[0;31mKeyboardInterrupt\u001b[0m: "
     ]
    }
   ],
   "source": [
    "for year in range(1987, 2017):\n",
    "    all_image, mean_image, median_image, ndvi_image = load_landsat_collection(year,\\\n",
    "                                                    shenzhen_buffer, cloud_tolerance=3)\n",
    "    class_result = unsupervised_classifier(mean_image, shenzhen_buffer, \\\n",
    "                n_clusters=5, output_filename=f'Shenzhen_Landsat_Kmeans_{year}.tif')\n",
    "Map"
   ]
  },
  {
   "cell_type": "code",
   "execution_count": 22,
   "metadata": {},
   "outputs": [
    {
     "data": {
      "application/vnd.jupyter.widget-view+json": {
       "model_id": "b9ea65a0679b404f932a697e35bd9896",
       "version_major": 2,
       "version_minor": 0
      },
      "text/plain": [
       "Map(bottom=114444.0, center=[22.63429269379353, 114.19052124023439], controls=(WidgetControl(options=['positio…"
      ]
     },
     "metadata": {},
     "output_type": "display_data"
    }
   ],
   "source": [
    "Map"
   ]
  },
  {
   "cell_type": "markdown",
   "metadata": {},
   "source": [
    "# NDVI\n"
   ]
  }
 ],
 "metadata": {
  "kernelspec": {
   "display_name": "Python 3",
   "language": "python",
   "name": "python3"
  },
  "language_info": {
   "codemirror_mode": {
    "name": "ipython",
    "version": 3
   },
   "file_extension": ".py",
   "mimetype": "text/x-python",
   "name": "python",
   "nbconvert_exporter": "python",
   "pygments_lexer": "ipython3",
   "version": "3.7.9"
  }
 },
 "nbformat": 4,
 "nbformat_minor": 4
}
